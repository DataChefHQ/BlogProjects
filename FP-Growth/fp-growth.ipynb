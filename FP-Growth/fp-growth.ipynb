{
 "cells": [
  {
   "cell_type": "code",
   "execution_count": 1,
   "id": "235f7a45-bf9b-4419-ac49-f36b2943ec26",
   "metadata": {},
   "outputs": [
    {
     "name": "stderr",
     "output_type": "stream",
     "text": [
      "24/04/09 13:01:15 WARN Utils: Your hostname, datachef resolves to a loopback address: 127.0.1.1; using 172.24.139.140 instead (on interface eth0)\n",
      "24/04/09 13:01:15 WARN Utils: Set SPARK_LOCAL_IP if you need to bind to another address\n",
      "Setting default log level to \"WARN\".\n",
      "To adjust logging level use sc.setLogLevel(newLevel). For SparkR, use setLogLevel(newLevel).\n",
      "24/04/09 13:01:26 WARN NativeCodeLoader: Unable to load native-hadoop library for your platform... using builtin-java classes where applicable\n"
     ]
    },
    {
     "name": "stdout",
     "output_type": "stream",
     "text": [
      "Generated Sample Dataset:\n"
     ]
    },
    {
     "name": "stderr",
     "output_type": "stream",
     "text": [
      "                                                                                \r"
     ]
    },
    {
     "name": "stdout",
     "output_type": "stream",
     "text": [
      "+-----------+-----------------------------------------+\n",
      "|customer_id|items                                    |\n",
      "+-----------+-----------------------------------------+\n",
      "|1          |[item_4, item_2, item_9, item_3]         |\n",
      "|2          |[item_1, item_6, item_3, item_5]         |\n",
      "|3          |[item_10, item_2, item_6, item_7, item_5]|\n",
      "|4          |[item_4, item_2, item_6, item_8]         |\n",
      "|5          |[item_6]                                 |\n",
      "|6          |[item_1, item_3]                         |\n",
      "|7          |[item_1, item_2, item_9, item_5, item_3] |\n",
      "|8          |[item_5, item_7]                         |\n",
      "|9          |[item_2, item_6]                         |\n",
      "|10         |[item_3]                                 |\n",
      "|11         |[item_4]                                 |\n",
      "|12         |[item_1, item_4, item_7, item_9]         |\n",
      "|13         |[item_2, item_10, item_3]                |\n",
      "|14         |[item_10, item_4, item_9, item_8, item_3]|\n",
      "|15         |[item_1, item_10, item_7, item_3]        |\n",
      "|16         |[item_10]                                |\n",
      "|17         |[item_1, item_4, item_5, item_3]         |\n",
      "|18         |[item_6, item_9]                         |\n",
      "|19         |[item_9]                                 |\n",
      "|20         |[item_5, item_9]                         |\n",
      "+-----------+-----------------------------------------+\n",
      "only showing top 20 rows\n",
      "\n"
     ]
    },
    {
     "name": "stderr",
     "output_type": "stream",
     "text": [
      "                                                                                \r"
     ]
    },
    {
     "name": "stdout",
     "output_type": "stream",
     "text": [
      "\n",
      "Frequent Itemsets:\n"
     ]
    },
    {
     "name": "stderr",
     "output_type": "stream",
     "text": [
      "                                                                                \r"
     ]
    },
    {
     "name": "stdout",
     "output_type": "stream",
     "text": [
      "+----------------+----+\n",
      "|items           |freq|\n",
      "+----------------+----+\n",
      "|[item_2]        |31  |\n",
      "|[item_3]        |31  |\n",
      "|[item_3, item_2]|12  |\n",
      "|[item_4]        |30  |\n",
      "|[item_6]        |30  |\n",
      "|[item_9]        |30  |\n",
      "|[item_9, item_3]|11  |\n",
      "|[item_9, item_6]|10  |\n",
      "|[item_9, item_2]|10  |\n",
      "|[item_5]        |29  |\n",
      "|[item_5, item_9]|10  |\n",
      "|[item_5, item_3]|12  |\n",
      "|[item_5, item_2]|10  |\n",
      "|[item_1]        |27  |\n",
      "|[item_1, item_3]|12  |\n",
      "|[item_7]        |24  |\n",
      "|[item_10]       |22  |\n",
      "|[item_8]        |21  |\n",
      "+----------------+----+\n",
      "\n",
      "\n",
      "Association Rules:\n",
      "+----------+----------+----------+----+-------+\n",
      "|antecedent|consequent|confidence|lift|support|\n",
      "+----------+----------+----------+----+-------+\n",
      "+----------+----------+----------+----+-------+\n",
      "\n",
      "\n",
      "Predictions:\n",
      "+-----------+-----------------------------------------+----------+\n",
      "|customer_id|items                                    |prediction|\n",
      "+-----------+-----------------------------------------+----------+\n",
      "|1          |[item_4, item_2, item_9, item_3]         |[]        |\n",
      "|2          |[item_1, item_6, item_3, item_5]         |[]        |\n",
      "|3          |[item_10, item_2, item_6, item_7, item_5]|[]        |\n",
      "|4          |[item_4, item_2, item_6, item_8]         |[]        |\n",
      "|5          |[item_6]                                 |[]        |\n",
      "|6          |[item_1, item_3]                         |[]        |\n",
      "|7          |[item_1, item_2, item_9, item_5, item_3] |[]        |\n",
      "|8          |[item_5, item_7]                         |[]        |\n",
      "|9          |[item_2, item_6]                         |[]        |\n",
      "|10         |[item_3]                                 |[]        |\n",
      "|11         |[item_4]                                 |[]        |\n",
      "|12         |[item_1, item_4, item_7, item_9]         |[]        |\n",
      "|13         |[item_2, item_10, item_3]                |[]        |\n",
      "|14         |[item_10, item_4, item_9, item_8, item_3]|[]        |\n",
      "|15         |[item_1, item_10, item_7, item_3]        |[]        |\n",
      "|16         |[item_10]                                |[]        |\n",
      "|17         |[item_1, item_4, item_5, item_3]         |[]        |\n",
      "|18         |[item_6, item_9]                         |[]        |\n",
      "|19         |[item_9]                                 |[]        |\n",
      "|20         |[item_5, item_9]                         |[]        |\n",
      "+-----------+-----------------------------------------+----------+\n",
      "only showing top 20 rows\n",
      "\n"
     ]
    },
    {
     "name": "stderr",
     "output_type": "stream",
     "text": [
      "----------------------------------------\n",
      "Exception occurred during processing of request from ('127.0.0.1', 59572)\n",
      "Traceback (most recent call last):\n",
      "  File \"/usr/lib/python3.10/socketserver.py\", line 316, in _handle_request_noblock\n",
      "    self.process_request(request, client_address)\n",
      "  File \"/usr/lib/python3.10/socketserver.py\", line 347, in process_request\n",
      "    self.finish_request(request, client_address)\n",
      "  File \"/usr/lib/python3.10/socketserver.py\", line 360, in finish_request\n",
      "    self.RequestHandlerClass(request, client_address, self)\n",
      "  File \"/usr/lib/python3.10/socketserver.py\", line 747, in __init__\n",
      "    self.handle()\n",
      "  File \"/mnt/c/Users/aliyz/OneDrive/Desktop/Repos/Campina/Blog/.venv/lib/python3.10/site-packages/pyspark/accumulators.py\", line 295, in handle\n",
      "    poll(accum_updates)\n",
      "  File \"/mnt/c/Users/aliyz/OneDrive/Desktop/Repos/Campina/Blog/.venv/lib/python3.10/site-packages/pyspark/accumulators.py\", line 267, in poll\n",
      "    if self.rfile in r and func():\n",
      "  File \"/mnt/c/Users/aliyz/OneDrive/Desktop/Repos/Campina/Blog/.venv/lib/python3.10/site-packages/pyspark/accumulators.py\", line 271, in accum_updates\n",
      "    num_updates = read_int(self.rfile)\n",
      "  File \"/mnt/c/Users/aliyz/OneDrive/Desktop/Repos/Campina/Blog/.venv/lib/python3.10/site-packages/pyspark/serializers.py\", line 596, in read_int\n",
      "    raise EOFError\n",
      "EOFError\n",
      "----------------------------------------\n"
     ]
    }
   ],
   "source": [
    "from pyspark.sql import SparkSession\n",
    "from pyspark.sql.functions import col\n",
    "from pyspark.ml.fpm import FPGrowth\n",
    "import random\n",
    "\n",
    "# Create SparkSession\n",
    "spark = SparkSession.builder \\\n",
    "    .appName(\"FP-Growth Example\") \\\n",
    "    .getOrCreate()\n",
    "\n",
    "# Number of customers\n",
    "num_customers = 100\n",
    "\n",
    "# Max length of itemsets for each customer\n",
    "max_itemset_length = 5\n",
    "\n",
    "# Generate sample data\n",
    "data = []\n",
    "for customer_id in range(1, num_customers + 1):\n",
    "    num_items = random.randint(1, max_itemset_length)\n",
    "    items = list(set([f\"item_{random.randint(1, 10)}\" for _ in range(num_items)]))\n",
    "    data.append((customer_id, items))\n",
    "\n",
    "# Create DataFrame\n",
    "schema = [\"customer_id\", \"items\"]\n",
    "df = spark.createDataFrame(data, schema)\n",
    "\n",
    "# Show generated dataset\n",
    "print(\"Generated Sample Dataset:\")\n",
    "df.show(truncate=False)\n",
    "\n",
    "# Create FP-Growth model\n",
    "fp_growth = FPGrowth(itemsCol=\"items\", minSupport=0.1, minConfidence=0.5)\n",
    "\n",
    "# Fit the model\n",
    "model = fp_growth.fit(df)\n",
    "\n",
    "# Display frequent itemsets\n",
    "print(\"\\nFrequent Itemsets:\")\n",
    "model.freqItemsets.show(truncate=False)\n",
    "\n",
    "# Display association rules\n",
    "print(\"\\nAssociation Rules:\")\n",
    "model.associationRules.show(truncate=False)\n",
    "\n",
    "# Transform the original dataset with the fitted model\n",
    "transformed = model.transform(df)\n",
    "\n",
    "# Show predictions\n",
    "print(\"\\nPredictions:\")\n",
    "transformed.show(truncate=False)\n"
   ]
  },
  {
   "cell_type": "code",
   "execution_count": 12,
   "id": "61a6e508-d8d8-45c7-a480-57b918999178",
   "metadata": {},
   "outputs": [
    {
     "name": "stdout",
     "output_type": "stream",
     "text": [
      "Generated Sample Dataset:\n",
      "+-----------+------------------------------------------------+\n",
      "|customer_id|items                                           |\n",
      "+-----------+------------------------------------------------+\n",
      "|1          |[item_3, item_1]                                |\n",
      "|2          |[item_3, item_1, item_8]                        |\n",
      "|3          |[item_5, item_3, item_1, item_7]                |\n",
      "|4          |[item_3, item_1]                                |\n",
      "|5          |[item_2, item_6, item_3, item_7, item_1, item_4]|\n",
      "|6          |[item_2, item_7, item_4, item_6]                |\n",
      "|7          |[item_3, item_1, item_4]                        |\n",
      "|8          |[item_2, item_3, item_7, item_9, item_1, item_4]|\n",
      "|9          |[item_2, item_3, item_7, item_1, item_4]        |\n",
      "|10         |[item_2, item_3, item_7, item_1, item_4]        |\n",
      "|11         |[item_2, item_3, item_7, item_8, item_1, item_4]|\n",
      "|12         |[item_2, item_6, item_3, item_7, item_1, item_4]|\n",
      "|13         |[item_2, item_3, item_7, item_1, item_4]        |\n",
      "|14         |[item_2, item_7, item_4]                        |\n",
      "|15         |[item_2, item_3, item_7, item_1, item_4]        |\n",
      "|16         |[item_3, item_1]                                |\n",
      "|17         |[item_2, item_3, item_7, item_1, item_4]        |\n",
      "|18         |[item_3, item_1]                                |\n",
      "|19         |[item_5, item_7, item_4, item_2]                |\n",
      "|20         |[item_2, item_3, item_7, item_1, item_4]        |\n",
      "+-----------+------------------------------------------------+\n",
      "only showing top 20 rows\n",
      "\n",
      "\n",
      "Frequent Itemsets:\n"
     ]
    },
    {
     "name": "stderr",
     "output_type": "stream",
     "text": [
      "                                                                                \r"
     ]
    },
    {
     "name": "stdout",
     "output_type": "stream",
     "text": [
      "+--------------------------------+----+\n",
      "|items                           |freq|\n",
      "+--------------------------------+----+\n",
      "|[item_3]                        |72  |\n",
      "|[item_1]                        |71  |\n",
      "|[item_1, item_3]                |71  |\n",
      "|[item_4]                        |63  |\n",
      "|[item_4, item_1]                |42  |\n",
      "|[item_4, item_1, item_3]        |42  |\n",
      "|[item_4, item_3]                |42  |\n",
      "|[item_7]                        |62  |\n",
      "|[item_7, item_4]                |57  |\n",
      "|[item_7, item_4, item_1]        |37  |\n",
      "|[item_7, item_4, item_1, item_3]|37  |\n",
      "|[item_7, item_4, item_3]        |37  |\n",
      "|[item_7, item_1]                |39  |\n",
      "|[item_7, item_1, item_3]        |39  |\n",
      "|[item_7, item_3]                |39  |\n",
      "|[item_2]                        |57  |\n",
      "|[item_2, item_4]                |57  |\n",
      "|[item_2, item_4, item_1]        |37  |\n",
      "|[item_2, item_4, item_1, item_3]|37  |\n",
      "|[item_2, item_4, item_3]        |37  |\n",
      "+--------------------------------+----+\n",
      "only showing top 20 rows\n",
      "\n",
      "\n",
      "Association Rules:\n",
      "+--------------------------------+----------+------------------+------------------+-------+\n",
      "|antecedent                      |consequent|confidence        |lift              |support|\n",
      "+--------------------------------+----------+------------------+------------------+-------+\n",
      "|[item_2, item_7, item_1, item_3]|[item_4]  |1.0               |1.5873015873015872|0.37   |\n",
      "|[item_4]                        |[item_1]  |0.6666666666666666|0.9389671361502347|0.42   |\n",
      "|[item_4]                        |[item_3]  |0.6666666666666666|0.9259259259259259|0.42   |\n",
      "|[item_4]                        |[item_7]  |0.9047619047619048|1.4592933947772657|0.57   |\n",
      "|[item_4]                        |[item_2]  |0.9047619047619048|1.5873015873015874|0.57   |\n",
      "|[item_7, item_3]                |[item_4]  |0.9487179487179487|1.5059015059015057|0.37   |\n",
      "|[item_7, item_3]                |[item_1]  |1.0               |1.4084507042253522|0.39   |\n",
      "|[item_7, item_3]                |[item_2]  |0.9487179487179487|1.6644174538911383|0.37   |\n",
      "|[item_2, item_4, item_3]        |[item_1]  |1.0               |1.4084507042253522|0.37   |\n",
      "|[item_2, item_4, item_3]        |[item_7]  |1.0               |1.6129032258064517|0.37   |\n",
      "|[item_4, item_1, item_3]        |[item_7]  |0.8809523809523809|1.4208909370199692|0.37   |\n",
      "|[item_4, item_1, item_3]        |[item_2]  |0.8809523809523809|1.545530492898914 |0.37   |\n",
      "|[item_7, item_4, item_3]        |[item_1]  |1.0               |1.4084507042253522|0.37   |\n",
      "|[item_7, item_4, item_3]        |[item_2]  |1.0               |1.7543859649122808|0.37   |\n",
      "|[item_2, item_4]                |[item_1]  |0.6491228070175439|0.9142574746725971|0.37   |\n",
      "|[item_2, item_4]                |[item_3]  |0.6491228070175439|0.9015594541910332|0.37   |\n",
      "|[item_2, item_4]                |[item_7]  |1.0               |1.6129032258064517|0.57   |\n",
      "|[item_1, item_3]                |[item_4]  |0.5915492957746479|0.9389671361502347|0.42   |\n",
      "|[item_1, item_3]                |[item_7]  |0.5492957746478874|0.8859609268514312|0.39   |\n",
      "|[item_1, item_3]                |[item_2]  |0.5211267605633803|0.914257474672597 |0.37   |\n",
      "+--------------------------------+----------+------------------+------------------+-------+\n",
      "only showing top 20 rows\n",
      "\n",
      "\n",
      "Predictions:\n",
      "+-----------+------------------------------------------------+------------------------+\n",
      "|customer_id|items                                           |prediction              |\n",
      "+-----------+------------------------------------------------+------------------------+\n",
      "|1          |[item_3, item_1]                                |[item_4, item_7, item_2]|\n",
      "|2          |[item_3, item_1, item_8]                        |[item_4, item_7, item_2]|\n",
      "|3          |[item_5, item_3, item_1, item_7]                |[item_4, item_2]        |\n",
      "|4          |[item_3, item_1]                                |[item_4, item_7, item_2]|\n",
      "|5          |[item_2, item_6, item_3, item_7, item_1, item_4]|[]                      |\n",
      "|6          |[item_2, item_7, item_4, item_6]                |[item_1, item_3]        |\n",
      "|7          |[item_3, item_1, item_4]                        |[item_7, item_2]        |\n",
      "|8          |[item_2, item_3, item_7, item_9, item_1, item_4]|[]                      |\n",
      "|9          |[item_2, item_3, item_7, item_1, item_4]        |[]                      |\n",
      "|10         |[item_2, item_3, item_7, item_1, item_4]        |[]                      |\n",
      "|11         |[item_2, item_3, item_7, item_8, item_1, item_4]|[]                      |\n",
      "|12         |[item_2, item_6, item_3, item_7, item_1, item_4]|[]                      |\n",
      "|13         |[item_2, item_3, item_7, item_1, item_4]        |[]                      |\n",
      "|14         |[item_2, item_7, item_4]                        |[item_1, item_3]        |\n",
      "|15         |[item_2, item_3, item_7, item_1, item_4]        |[]                      |\n",
      "|16         |[item_3, item_1]                                |[item_4, item_7, item_2]|\n",
      "|17         |[item_2, item_3, item_7, item_1, item_4]        |[]                      |\n",
      "|18         |[item_3, item_1]                                |[item_4, item_7, item_2]|\n",
      "|19         |[item_5, item_7, item_4, item_2]                |[item_1, item_3]        |\n",
      "|20         |[item_2, item_3, item_7, item_1, item_4]        |[]                      |\n",
      "+-----------+------------------------------------------------+------------------------+\n",
      "only showing top 20 rows\n",
      "\n"
     ]
    }
   ],
   "source": [
    "from pyspark.sql import SparkSession\n",
    "from pyspark.sql.functions import col\n",
    "from pyspark.ml.fpm import FPGrowth\n",
    "import random\n",
    "\n",
    "# Create SparkSession\n",
    "spark = SparkSession.builder \\\n",
    "    .appName(\"FP-Growth Example\") \\\n",
    "    .getOrCreate()\n",
    "\n",
    "# Number of customers\n",
    "num_customers = 100\n",
    "\n",
    "# Max length of itemsets for each customer\n",
    "max_itemset_length = 5\n",
    "\n",
    "# Generate sample data\n",
    "data = []\n",
    "for customer_id in range(1, num_customers + 1):\n",
    "    num_items = random.randint(1, max_itemset_length)\n",
    "    \n",
    "    # Define items with different probabilities\n",
    "    items = []\n",
    "    for _ in range(num_items):\n",
    "        item_prob = random.random()  # Random probability for item selection\n",
    "        if item_prob < 0.4:  # 40% chance of item_1\n",
    "            items.extend([\"item_1\", \"item_3\"])\n",
    "        elif item_prob < 0.7:  # 30% chance of item_2\n",
    "            items.extend([\"item_2\", \"item_4\", \"item_7\"])\n",
    "        else:  # 30% chance of other items\n",
    "            items.append(f\"item_{random.randint(3, 10)}\")\n",
    "    items = list(set(items))\n",
    "    \n",
    "    data.append((customer_id, items))\n",
    "\n",
    "# Create DataFrame\n",
    "schema = [\"customer_id\", \"items\"]\n",
    "df = spark.createDataFrame(data, schema)\n",
    "\n",
    "# Show generated dataset\n",
    "print(\"Generated Sample Dataset:\")\n",
    "df.show(truncate=False)\n",
    "\n",
    "# Create FP-Growth model\n",
    "fp_growth = FPGrowth(itemsCol=\"items\", minSupport=0.1, minConfidence=0.5)\n",
    "\n",
    "# Fit the model\n",
    "model = fp_growth.fit(df)\n",
    "\n",
    "# Display frequent itemsets\n",
    "print(\"\\nFrequent Itemsets:\")\n",
    "model.freqItemsets.show(truncate=False)\n",
    "\n",
    "# Display association rules\n",
    "print(\"\\nAssociation Rules:\")\n",
    "model.associationRules.show(truncate=False)\n",
    "\n",
    "# Transform the original dataset with the fitted model\n",
    "transformed = model.transform(df)\n",
    "\n",
    "# Show predictions\n",
    "print(\"\\nPredictions:\")\n",
    "transformed.show(truncate=False)\n"
   ]
  },
  {
   "cell_type": "code",
   "execution_count": 6,
   "id": "04e123af-9cdb-4447-be40-a279db2f8bc7",
   "metadata": {},
   "outputs": [
    {
     "name": "stderr",
     "output_type": "stream",
     "text": [
      "                                                                                \r"
     ]
    },
    {
     "name": "stdout",
     "output_type": "stream",
     "text": [
      "1.691096305847168\n"
     ]
    },
    {
     "name": "stderr",
     "output_type": "stream",
     "text": [
      "                                                                                \r"
     ]
    },
    {
     "name": "stdout",
     "output_type": "stream",
     "text": [
      "1.7916088104248047\n"
     ]
    },
    {
     "name": "stderr",
     "output_type": "stream",
     "text": [
      "                                                                                \r"
     ]
    },
    {
     "name": "stdout",
     "output_type": "stream",
     "text": [
      "1.8470289707183838\n"
     ]
    },
    {
     "name": "stderr",
     "output_type": "stream",
     "text": [
      "                                                                                \r"
     ]
    },
    {
     "name": "stdout",
     "output_type": "stream",
     "text": [
      "3.95654296875\n"
     ]
    },
    {
     "name": "stderr",
     "output_type": "stream",
     "text": [
      "24/04/09 13:28:00 WARN TaskSetManager: Stage 217 contains a task of very large size (1681 KiB). The maximum recommended task size is 1000 KiB.\n",
      "24/04/09 13:28:02 WARN TaskSetManager: Stage 218 contains a task of very large size (1681 KiB). The maximum recommended task size is 1000 KiB.\n",
      "24/04/09 13:28:02 WARN TaskSetManager: Stage 219 contains a task of very large size (1681 KiB). The maximum recommended task size is 1000 KiB.\n",
      "24/04/09 13:28:03 WARN TaskSetManager: Stage 221 contains a task of very large size (1681 KiB). The maximum recommended task size is 1000 KiB.\n",
      "                                                                                \r"
     ]
    },
    {
     "name": "stdout",
     "output_type": "stream",
     "text": [
      "31.231619119644165\n"
     ]
    },
    {
     "name": "stderr",
     "output_type": "stream",
     "text": [
      "[Stage 104:===>                                                   (1 + 14) / 16]\r"
     ]
    },
    {
     "data": {
      "image/png": "[encoded data removed]",
      "text/plain": [
       "<Figure size 1000x600 with 1 Axes>"
      ]
     },
     "metadata": {},
     "output_type": "display_data"
    },
    {
     "name": "stderr",
     "output_type": "stream",
     "text": [
      "[Stage 104:===>                                                   (1 + 14) / 16]\r"
     ]
    }
   ],
   "source": [
    "from pyspark.sql import SparkSession\n",
    "from pyspark.sql.functions import col\n",
    "from pyspark.ml.fpm import FPGrowth\n",
    "import random\n",
    "import time\n",
    "import matplotlib.pyplot as plt\n",
    "\n",
    "# Initialize SparkSession\n",
    "spark = SparkSession.builder \\\n",
    "    .appName(\"FP-Growth Example\") \\\n",
    "    .getOrCreate()\n",
    "\n",
    "# Function to run FP-Growth for varying number of customers\n",
    "def run_fp_growth(num_customers):\n",
    "    data = []\n",
    "    max_itemset_length = 10\n",
    "    for customer_id in range(1, num_customers + 1):\n",
    "        num_items = random.randint(1, max_itemset_length)\n",
    "        items = []\n",
    "        for _ in range(num_items):\n",
    "            item_prob = random.random()\n",
    "            if item_prob < 0.4:\n",
    "                items.extend([\"item_1\", \"item_3\"])\n",
    "            elif item_prob < 0.7:\n",
    "                items.extend([\"item_2\", \"item_4\", \"item_7\"])\n",
    "            else:\n",
    "                items.append(f\"item_{random.randint(3, 10)}\")\n",
    "        items = list(set(items))\n",
    "        data.append((customer_id, items))\n",
    "\n",
    "    schema = [\"customer_id\", \"items\"]\n",
    "    df = spark.createDataFrame(data, schema)\n",
    "\n",
    "    fp_growth = FPGrowth(itemsCol=\"items\", minSupport=0.3, minConfidence=0.8)\n",
    "    model = fp_growth.fit(df)\n",
    "\n",
    "    transformed = model.transform(df)\n",
    "    return transformed\n",
    "\n",
    "# Numbers of customers to test\n",
    "num_customers_list = [100, 1_000, 10_000, 100_000, 1_000_000]\n",
    "execution_times = []\n",
    "\n",
    "# Time and run FP-Growth for each number of customers\n",
    "for num_customers in num_customers_list:\n",
    "    start_time = time.time()\n",
    "    _ = run_fp_growth(num_customers)\n",
    "    execution_time = time.time() - start_time\n",
    "    print(execution_time)\n",
    "    execution_times.append(execution_time)\n",
    "\n",
    "# Plotting\n",
    "plt.figure(figsize=(10, 6))\n",
    "plt.plot(num_customers_list, execution_times, marker='o', linestyle='-')\n",
    "plt.xlabel('Number of Itemsets')\n",
    "plt.ylabel('Execution Time (seconds)')\n",
    "plt.title('FP-Growth Execution Time vs Number of Itemsets')\n",
    "plt.xscale('log')\n",
    "plt.yscale('log')\n",
    "plt.grid(True, which=\"both\", ls=\"--\")\n",
    "plt.savefig('./time.png', dpi=600)\n",
    "plt.show()"
   ]
  },
  {
   "cell_type": "code",
   "execution_count": 13,
   "id": "9483da72-e514-4fcf-a241-983792d7db89",
   "metadata": {},
   "outputs": [
    {
     "data": {
      "text/plain": [
       "2"
      ]
     },
     "execution_count": 13,
     "metadata": {},
     "output_type": "execute_result"
    }
   ],
   "source": [
    "random.choice([1,2,3])"
   ]
  },
  {
   "cell_type": "code",
   "execution_count": 4,
   "id": "7f80c421-7fe4-46ca-bcb5-857efee6564f",
   "metadata": {},
   "outputs": [
    {
     "name": "stderr",
     "output_type": "stream",
     "text": [
      "                                                                                \r"
     ]
    },
    {
     "name": "stdout",
     "output_type": "stream",
     "text": [
      "time: 2.0826475620269775\n"
     ]
    },
    {
     "name": "stderr",
     "output_type": "stream",
     "text": [
      "                                                                                \r"
     ]
    },
    {
     "name": "stdout",
     "output_type": "stream",
     "text": [
      "time: 2.5357627868652344\n"
     ]
    },
    {
     "name": "stderr",
     "output_type": "stream",
     "text": [
      "                                                                                \r"
     ]
    },
    {
     "name": "stdout",
     "output_type": "stream",
     "text": [
      "time: 2.73958683013916\n"
     ]
    },
    {
     "name": "stderr",
     "output_type": "stream",
     "text": [
      "                                                                                \r"
     ]
    },
    {
     "name": "stdout",
     "output_type": "stream",
     "text": [
      "time: 46.41014385223389\n"
     ]
    },
    {
     "name": "stderr",
     "output_type": "stream",
     "text": [
      "                                                                                \r"
     ]
    },
    {
     "name": "stdout",
     "output_type": "stream",
     "text": [
      "time: 74.79073810577393\n"
     ]
    },
    {
     "name": "stderr",
     "output_type": "stream",
     "text": [
      "                                                                                \r"
     ]
    },
    {
     "name": "stdout",
     "output_type": "stream",
     "text": [
      "time: 193.29088878631592\n"
     ]
    },
    {
     "data": {
      "image/png": "[encoded data removed]",
      "text/plain": [
       "<Figure size 1000x600 with 1 Axes>"
      ]
     },
     "metadata": {},
     "output_type": "display_data"
    }
   ],
   "source": [
    "from pyspark.sql import SparkSession\n",
    "from pyspark.sql.functions import col\n",
    "from pyspark.ml.fpm import FPGrowth\n",
    "import random\n",
    "import time\n",
    "import numpy as np\n",
    "import matplotlib.pyplot as plt\n",
    "\n",
    "# Initialize SparkSession\n",
    "spark = SparkSession.builder \\\n",
    "    .appName(\"FP-Growth Example\") \\\n",
    "    .config(\"spark.executor.memory\", \"4g\") \\\n",
    "    .config(\"spark.driver.memory\", \"4g\")  \\\n",
    "    .getOrCreate()\n",
    "\n",
    "# Function to run FP-Growth for varying median sizes of itemsets\n",
    "def run_fp_growth(num_customers, median_itemset_size):\n",
    "    data = []\n",
    "    std_dev = 5  # Standard deviation for itemset size distribution\n",
    "    total_items = 100  # Total unique items available for sampling\n",
    "    \n",
    "    # Create a pool of unique items\n",
    "    item_pool = [f\"item_{i+1}\" for i in range(total_items)]\n",
    "\n",
    "    for customer_id in range(1, num_customers + 1):\n",
    "        # Generate itemset size from a normal distribution centered at median_itemset_size\n",
    "        num_items = int(np.random.normal(median_itemset_size, std_dev))\n",
    "        num_items = max(1, min(num_items, total_items))  # Ensure num_items is within a reasonable range\n",
    "\n",
    "        # Randomly sample items based on the generated itemset size\n",
    "        items = random.sample(item_pool, num_items)\n",
    "\n",
    "        data.append((customer_id, items))\n",
    "\n",
    "    schema = [\"customer_id\", \"items\"]\n",
    "    df = spark.createDataFrame(data, schema)\n",
    "\n",
    "    fp_growth = FPGrowth(itemsCol=\"items\", minSupport=0.3, minConfidence=0.8)\n",
    "    model = fp_growth.fit(df)\n",
    "\n",
    "    transformed = model.transform(df)\n",
    "    return transformed\n",
    "\n",
    "# Median sizes of itemsets to test\n",
    "median_sizes = [10, 20, 30, 40, 50, 60]\n",
    "execution_times = []\n",
    "\n",
    "# Time and run FP-Growth for each median size of itemsets\n",
    "num_customers = 10000\n",
    "for median_size in median_sizes:\n",
    "    start_time = time.time()\n",
    "    _ = run_fp_growth(num_customers, median_size)\n",
    "    execution_time = time.time() - start_time\n",
    "    print(f\"time: {execution_time}\")\n",
    "    execution_times.append(execution_time)\n",
    "\n",
    "# Plotting\n",
    "plt.figure(figsize=(10, 6))\n",
    "plt.plot(median_sizes, execution_times, marker='o', linestyle='-')\n",
    "plt.xlabel('Average Size of Itemsets')\n",
    "plt.ylabel('Execution Time (seconds)')\n",
    "plt.title('FP-Growth Execution Time vs Average Size of Itemsets')\n",
    "plt.grid(True)\n",
    "plt.savefig('./average_size_vs_time.png', dpi=600)\n",
    "plt.show()\n"
   ]
  }
 ],
 "metadata": {
  "kernelspec": {
   "display_name": "Python 3 (ipykernel)",
   "language": "python",
   "name": "python3"
  },
  "language_info": {
   "codemirror_mode": {
    "name": "ipython",
    "version": 3
   },
   "file_extension": ".py",
   "mimetype": "text/x-python",
   "name": "python",
   "nbconvert_exporter": "python",
   "pygments_lexer": "ipython3",
   "version": "3.10.12"
  }
 },
 "nbformat": 4,
 "nbformat_minor": 5
}
