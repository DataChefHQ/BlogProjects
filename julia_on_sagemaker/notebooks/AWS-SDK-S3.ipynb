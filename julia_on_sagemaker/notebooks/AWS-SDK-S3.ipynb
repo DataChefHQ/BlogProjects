{
 "cells": [
  {
   "cell_type": "code",
   "execution_count": null,
   "id": "836f9e39",
   "metadata": {},
   "outputs": [],
   "source": [
    "import Pkg\n",
    "Pkg.add(\"AWS\")"
   ]
  },
  {
   "cell_type": "code",
   "execution_count": null,
   "id": "57890891",
   "metadata": {},
   "outputs": [],
   "source": [
    "using AWS: @service\n",
    "@service S3\n",
    "\n",
    "s3_bucket_name = \"sample-s3-bucket-name\"\n",
    "file_path = \"file.csv\" \n",
    "output_file = S3.get_object(s3_bucket_name , file_path)\n",
    "\n",
    "open(\"output.csv\", \"a\") do file\n",
    "    write(file, output_file)\n",
    "end\n"
   ]
  },
  {
   "cell_type": "code",
   "execution_count": null,
   "id": "fdae77a1",
   "metadata": {},
   "outputs": [],
   "source": [
    "@service S3\n",
    "\n",
    "body = read(\"output.csv\", String)\n",
    "s3_bucket_name = \"sample-s3-bucket-name\"\n",
    "destination_file_name = \"output.csv\"\n",
    "output_file = S3.put_object(s3_bucket_name, destination_file_name , Dict(\"body\" => body))"
   ]
  }
 ],
 "metadata": {
  "kernelspec": {
   "display_name": "Julia 1.6.0",
   "language": "julia",
   "name": "julia-1.6"
  },
  "language_info": {
   "file_extension": ".jl",
   "mimetype": "application/julia",
   "name": "julia",
   "version": "1.6.0"
  }
 },
 "nbformat": 4,
 "nbformat_minor": 5
}
