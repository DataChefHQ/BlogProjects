{
 "cells": [
  {
   "cell_type": "code",
   "execution_count": 1,
   "metadata": {},
   "outputs": [
    {
     "name": "stderr",
     "output_type": "stream",
     "text": [
      "\u001b[32m\u001b[1m    Updating\u001b[22m\u001b[39m registry at `~/SageMaker/envs/julia/depot/registries/General`\n",
      "\u001b[32m\u001b[1m   Resolving\u001b[22m\u001b[39m package versions...\n",
      "\u001b[32m\u001b[1m    Updating\u001b[22m\u001b[39m `~/SageMaker/envs/julia/depot/environments/v1.6/Project.toml`\n",
      " \u001b[90m [fbe9abb3] \u001b[39m\u001b[92m+ AWS v1.39.0\u001b[39m\n",
      "\u001b[32m\u001b[1m  No Changes\u001b[22m\u001b[39m to `~/SageMaker/envs/julia/depot/environments/v1.6/Manifest.toml`\n"
     ]
    }
   ],
   "source": [
    "import Pkg\n",
    "Pkg.add(\"AWS\")"
   ]
  },
  {
   "cell_type": "code",
   "execution_count": 16,
   "metadata": {},
   "outputs": [
    {
     "name": "stderr",
     "output_type": "stream",
     "text": [
      "WARNING: replacing module S3.\n"
     ]
    },
    {
     "data": {
      "text/plain": [
       "35138"
      ]
     },
     "execution_count": 16,
     "metadata": {},
     "output_type": "execute_result"
    }
   ],
   "source": [
    "using AWS: @service\n",
    "@service S3\n",
    "\n",
    "s3_bucket_name = “sample-s3-bucket-name”\n",
    "file_path = “file.csv” \n",
    "output_file = S3.get_object(s3_bucket_name , file_path)\n",
    "\n",
    "open(\"output.csv\", \"a\") do file\n",
    "    write(file, output_file)\n",
    "end\n"
   ]
  },
  {
   "cell_type": "code",
   "execution_count": 46,
   "metadata": {},
   "outputs": [
    {
     "name": "stderr",
     "output_type": "stream",
     "text": [
      "WARNING: replacing module S3.\n"
     ]
    },
    {
     "data": {
      "text/plain": [
       "UInt8[]"
      ]
     },
     "execution_count": 46,
     "metadata": {},
     "output_type": "execute_result"
    }
   ],
   "source": [
    "@service S3\n",
    "\n",
    "body = read(\"output.csv\", String)\n",
    "s3_bucket_name = “sample-s3-bucket-name”\n",
    "destination_file_name = “output.csv”\n",
    "output_file = S3.put_object(s3_bucket_name, destination_file_name , Dict(\"body\" => body))"
   ]
  }
 ],
 "metadata": {
  "kernelspec": {
   "display_name": "Julia 1.6.1",
   "language": "julia",
   "name": "julia-1.6"
  },
  "language_info": {
   "file_extension": ".jl",
   "mimetype": "application/julia",
   "name": "julia",
   "version": "1.6.1"
  }
 },
 "nbformat": 4,
 "nbformat_minor": 5
}
