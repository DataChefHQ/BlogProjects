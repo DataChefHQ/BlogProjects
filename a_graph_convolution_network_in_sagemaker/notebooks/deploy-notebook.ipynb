{
 "cells": [
  {
   "cell_type": "code",
   "execution_count": 5,
   "id": "selective-danish",
   "metadata": {},
   "outputs": [],
   "source": [
    "import boto3\n",
    "import sagemaker\n",
    "from sagemaker.estimator import Estimator"
   ]
  },
  {
   "cell_type": "code",
   "execution_count": 6,
   "id": "advanced-marina",
   "metadata": {},
   "outputs": [
    {
     "data": {
      "text/plain": [
       "'arn:aws:iam::939595455984:role/kiarash-sagemaker'"
      ]
     },
     "execution_count": 6,
     "metadata": {},
     "output_type": "execute_result"
    }
   ],
   "source": [
    "sagemaker.get_execution_role()"
   ]
  },
  {
   "cell_type": "code",
   "execution_count": 7,
   "id": "protective-token",
   "metadata": {},
   "outputs": [],
   "source": [
    "es = Estimator(\n",
    "    role=sagemaker.get_execution_role(),\n",
    "    image_uri='939595455984.dkr.ecr.eu-west-1.amazonaws.com/dgl-citation-network:custom-torch-1.8',\n",
    "    instance_type='ml.m5.large',\n",
    "    instance_count=1,\n",
    "    hyperparameters={\n",
    "        'epochs': 100,\n",
    "        'learning-rate': 0.01\n",
    "    }\n",
    ")"
   ]
  },
  {
   "cell_type": "code",
   "execution_count": 8,
   "id": "imposed-norwegian",
   "metadata": {},
   "outputs": [
    {
     "name": "stdout",
     "output_type": "stream",
     "text": [
      "2021-03-26 12:15:39 Starting - Starting the training job...\n",
      "2021-03-26 12:16:02 Starting - Launching requested ML instancesProfilerReport-1616760939: InProgress\n",
      "......\n",
      "2021-03-26 12:17:04 Starting - Preparing the instances for training......\n",
      "2021-03-26 12:18:03 Downloading - Downloading input data\n",
      "2021-03-26 12:18:03 Training - Downloading the training image.........\n",
      "2021-03-26 12:19:23 Training - Training image download completed. Training in progress.\u001b[34mDGL backend not selected or invalid.  Assuming PyTorch for now.\u001b[0m\n",
      "\u001b[34mUsing backend: pytorch\u001b[0m\n",
      "\u001b[34m/usr/local/lib/python3.9/site-packages/dgl/base.py:45: DGLWarning: DGLGraph.__len__ is deprecated.Please directly call DGLGraph.number_of_nodes.\n",
      "  return warnings.warn(message, category=category, stacklevel=1)\u001b[0m\n",
      "\u001b[34mSetting the default backend to \"pytorch\". You can change it in the ~/.dgl/config.json file or export the DGLBACKEND environment variable.  Valid options are: pytorch, mxnet, tensorflow (all lowercase)\u001b[0m\n",
      "\u001b[34mDownloading /root/.dgl/cora_full.zip from https://data.dgl.ai/dataset/cora_full.zip...\u001b[0m\n",
      "\u001b[34mExtracting file to /root/.dgl/cora_full\u001b[0m\n",
      "\u001b[34mEpoch 0/100 | Loss: 4.248617649078369, train_accuracy: 0.008968043141067028, val_accuracy: 0.010356150567531586\u001b[0m\n",
      "\u001b[34mEpoch 1/100 | Loss: 4.232303142547607, train_accuracy: 0.042692940682172775, val_accuracy: 0.03814094513654709\u001b[0m\n",
      "\u001b[34mEpoch 2/100 | Loss: 4.209789752960205, train_accuracy: 0.03549324348568916, val_accuracy: 0.03536246344447136\u001b[0m\n",
      "\u001b[34mEpoch 3/100 | Loss: 4.183424472808838, train_accuracy: 0.031009221449494362, val_accuracy: 0.03157363086938858\u001b[0m\n",
      "\u001b[34mEpoch 4/100 | Loss: 4.154115676879883, train_accuracy: 0.030503978952765465, val_accuracy: 0.03132104128599167\u001b[0m\n",
      "\u001b[34mEpoch 5/100 | Loss: 4.121480464935303, train_accuracy: 0.03201970458030701, val_accuracy: 0.03258398547768593\u001b[0m\n",
      "\u001b[34mEpoch 6/100 | Loss: 4.086284160614014, train_accuracy: 0.0332828089594841, val_accuracy: 0.03308916464447975\u001b[0m\n",
      "\u001b[34mEpoch 7/100 | Loss: 4.048604488372803, train_accuracy: 0.03473537787795067, val_accuracy: 0.0340995192527771\u001b[0m\n",
      "\u001b[34mEpoch 8/100 | Loss: 4.008737564086914, train_accuracy: 0.036187950521707535, val_accuracy: 0.03460469841957092\u001b[0m\n",
      "\u001b[34mEpoch 9/100 | Loss: 3.9674763679504395, train_accuracy: 0.039029937237501144, val_accuracy: 0.036120232194662094\u001b[0m\n",
      "\u001b[34mEpoch 10/100 | Loss: 3.925819158554077, train_accuracy: 0.048376910388469696, val_accuracy: 0.04091942310333252\u001b[0m\n",
      "\u001b[34mEpoch 11/100 | Loss: 3.884636163711548, train_accuracy: 0.06820765137672424, val_accuracy: 0.05380146577954292\u001b[0m\n",
      "\u001b[34mEpoch 12/100 | Loss: 3.844099998474121, train_accuracy: 0.09536440670490265, val_accuracy: 0.08209143579006195\u001b[0m\n",
      "\u001b[34mEpoch 13/100 | Loss: 3.803969621658325, train_accuracy: 0.12157382816076279, val_accuracy: 0.10633998364210129\u001b[0m\n",
      "\u001b[34mEpoch 14/100 | Loss: 3.7638983726501465, train_accuracy: 0.1331312358379364, val_accuracy: 0.11770649254322052\u001b[0m\n",
      "\u001b[34mEpoch 15/100 | Loss: 3.723632335662842, train_accuracy: 0.13767841458320618, val_accuracy: 0.12099014967679977\u001b[0m\n",
      "\u001b[34mEpoch 16/100 | Loss: 3.6829307079315186, train_accuracy: 0.13401541113853455, val_accuracy: 0.11745390295982361\u001b[0m\n",
      "\u001b[34mEpoch 17/100 | Loss: 3.6416051387786865, train_accuracy: 0.13458380103111267, val_accuracy: 0.11593836545944214\u001b[0m\n",
      "\u001b[34mEpoch 18/100 | Loss: 3.599449396133423, train_accuracy: 0.15296198427677155, val_accuracy: 0.13260924816131592\u001b[0m\n",
      "\u001b[34mEpoch 19/100 | Loss: 3.556295156478882, train_accuracy: 0.17291903495788574, val_accuracy: 0.15256378054618835\u001b[0m\n",
      "\u001b[34mEpoch 20/100 | Loss: 3.5118067264556885, train_accuracy: 0.1922445297241211, val_accuracy: 0.16165699064731598\u001b[0m\n",
      "\u001b[34mEpoch 21/100 | Loss: 3.465703010559082, train_accuracy: 0.20178097486495972, val_accuracy: 0.163930281996727\u001b[0m\n",
      "\u001b[34mEpoch 22/100 | Loss: 3.4180948734283447, train_accuracy: 0.2135278582572937, val_accuracy: 0.1664561778306961\u001b[0m\n",
      "\u001b[34mEpoch 23/100 | Loss: 3.3696579933166504, train_accuracy: 0.23108500242233276, val_accuracy: 0.17832785844802856\u001b[0m\n",
      "\u001b[34mEpoch 24/100 | Loss: 3.3208210468292236, train_accuracy: 0.25022104382514954, val_accuracy: 0.1962616890668869\u001b[0m\n",
      "\u001b[34mEpoch 25/100 | Loss: 3.2713465690612793, train_accuracy: 0.2746621072292328, val_accuracy: 0.21672140061855316\u001b[0m\n",
      "\u001b[34mEpoch 26/100 | Loss: 3.2210500240325928, train_accuracy: 0.2985348105430603, val_accuracy: 0.23490780591964722\u001b[0m\n",
      "\u001b[34mEpoch 27/100 | Loss: 3.169816017150879, train_accuracy: 0.31855499744415283, val_accuracy: 0.2553675174713135\u001b[0m\n",
      "\u001b[34mEpoch 28/100 | Loss: 3.1176300048828125, train_accuracy: 0.3366174101829529, val_accuracy: 0.27633240818977356\u001b[0m\n",
      "\u001b[34mEpoch 29/100 | Loss: 3.064575672149658, train_accuracy: 0.35467979311943054, val_accuracy: 0.29527658224105835\u001b[0m\n",
      "\u001b[34mEpoch 30/100 | Loss: 3.0107221603393555, train_accuracy: 0.37823671102523804, val_accuracy: 0.31699925661087036\u001b[0m\n",
      "\u001b[34mEpoch 31/100 | Loss: 2.9562106132507324, train_accuracy: 0.40255147218704224, val_accuracy: 0.34225815534591675\u001b[0m\n",
      "\u001b[34mEpoch 32/100 | Loss: 2.901210069656372, train_accuracy: 0.4252873659133911, val_accuracy: 0.36574891209602356\u001b[0m\n",
      "\u001b[34mEpoch 33/100 | Loss: 2.8458659648895264, train_accuracy: 0.4454970359802246, val_accuracy: 0.38671380281448364\u001b[0m\n",
      "\u001b[34mEpoch 34/100 | Loss: 2.7902443408966064, train_accuracy: 0.4664645791053772, val_accuracy: 0.4036372900009155\u001b[0m\n",
      "\u001b[34mEpoch 35/100 | Loss: 2.734393358230591, train_accuracy: 0.48452696204185486, val_accuracy: 0.4180348515510559\u001b[0m\n",
      "\u001b[34mEpoch 36/100 | Loss: 2.6784467697143555, train_accuracy: 0.5008209943771362, val_accuracy: 0.4347057342529297\u001b[0m\n",
      "\u001b[34mEpoch 37/100 | Loss: 2.622715711593628, train_accuracy: 0.5131362676620483, val_accuracy: 0.44683000445365906\u001b[0m\n",
      "\u001b[34mEpoch 38/100 | Loss: 2.5671582221984863, train_accuracy: 0.5240621566772461, val_accuracy: 0.45743873715400696\u001b[0m\n",
      "\u001b[34mEpoch 39/100 | Loss: 2.5117027759552, train_accuracy: 0.5341669917106628, val_accuracy: 0.46552160382270813\u001b[0m\n",
      "\u001b[34mEpoch 40/100 | Loss: 2.456559658050537, train_accuracy: 0.5426297783851624, val_accuracy: 0.47234150767326355\u001b[0m\n",
      "\u001b[34mEpoch 41/100 | Loss: 2.401968002319336, train_accuracy: 0.5495136976242065, val_accuracy: 0.4801717698574066\u001b[0m\n",
      "\u001b[34mEpoch 42/100 | Loss: 2.3481273651123047, train_accuracy: 0.5553239583969116, val_accuracy: 0.4842131733894348\u001b[0m\n",
      "\u001b[34mEpoch 43/100 | Loss: 2.2951536178588867, train_accuracy: 0.5604395866394043, val_accuracy: 0.4902753233909607\u001b[0m\n",
      "\u001b[34mEpoch 44/100 | Loss: 2.2431020736694336, train_accuracy: 0.5651130676269531, val_accuracy: 0.49381157755851746\u001b[0m\n",
      "\u001b[34mEpoch 45/100 | Loss: 2.191988945007324, train_accuracy: 0.5691549777984619, val_accuracy: 0.4983581602573395\u001b[0m\n",
      "\u001b[34mEpoch 46/100 | Loss: 2.1418392658233643, train_accuracy: 0.5767335891723633, val_accuracy: 0.5026521682739258\u001b[0m\n",
      "\u001b[34mEpoch 47/100 | Loss: 2.0927391052246094, train_accuracy: 0.5831754207611084, val_accuracy: 0.5082091689109802\u001b[0m\n",
      "\u001b[34mEpoch 48/100 | Loss: 2.044818878173828, train_accuracy: 0.5910698771476746, val_accuracy: 0.5130083560943604\u001b[0m\n",
      "\u001b[34mEpoch 49/100 | Loss: 1.998183012008667, train_accuracy: 0.598459005355835, val_accuracy: 0.5160394310951233\u001b[0m\n",
      "\u001b[34mEpoch 50/100 | Loss: 1.9529547691345215, train_accuracy: 0.6057218909263611, val_accuracy: 0.5203334093093872\u001b[0m\n",
      "\u001b[34mEpoch 51/100 | Loss: 1.9091449975967407, train_accuracy: 0.6115952730178833, val_accuracy: 0.5266481637954712\u001b[0m\n",
      "\u001b[34mEpoch 52/100 | Loss: 1.8667165040969849, train_accuracy: 0.6166477203369141, val_accuracy: 0.5316998958587646\u001b[0m\n",
      "\u001b[34mEpoch 53/100 | Loss: 1.8256523609161377, train_accuracy: 0.6219527721405029, val_accuracy: 0.5314473509788513\u001b[0m\n",
      "\u001b[34mEpoch 54/100 | Loss: 1.7859139442443848, train_accuracy: 0.6273841261863708, val_accuracy: 0.5352361798286438\u001b[0m\n",
      "\u001b[34mEpoch 55/100 | Loss: 1.7475274801254272, train_accuracy: 0.6318681240081787, val_accuracy: 0.5372568964958191\u001b[0m\n",
      "\u001b[34mEpoch 56/100 | Loss: 1.7105084657669067, train_accuracy: 0.6360363960266113, val_accuracy: 0.5395301580429077\u001b[0m\n",
      "\u001b[34mEpoch 57/100 | Loss: 1.6748307943344116, train_accuracy: 0.639699399471283, val_accuracy: 0.5425612330436707\u001b[0m\n",
      "\u001b[34mEpoch 58/100 | Loss: 1.6404800415039062, train_accuracy: 0.6428571343421936, val_accuracy: 0.5471078753471375\u001b[0m\n",
      "\u001b[34mEpoch 59/100 | Loss: 1.6073954105377197, train_accuracy: 0.6471517086029053, val_accuracy: 0.5501389503479004\u001b[0m\n",
      "\u001b[34mEpoch 60/100 | Loss: 1.575526237487793, train_accuracy: 0.6497410535812378, val_accuracy: 0.5546855330467224\u001b[0m\n",
      "\u001b[34mEpoch 61/100 | Loss: 1.5448375940322876, train_accuracy: 0.6546671986579895, val_accuracy: 0.5579692125320435\u001b[0m\n",
      "\u001b[34mEpoch 62/100 | Loss: 1.5153087377548218, train_accuracy: 0.6578249335289001, val_accuracy: 0.5620105862617493\u001b[0m\n",
      "\u001b[34mEpoch 63/100 | Loss: 1.4869146347045898, train_accuracy: 0.662308931350708, val_accuracy: 0.5650416612625122\u001b[0m\n",
      "\u001b[34mEpoch 64/100 | Loss: 1.4596402645111084, train_accuracy: 0.6660982966423035, val_accuracy: 0.5683253407478333\u001b[0m\n",
      "\u001b[34mEpoch 65/100 | Loss: 1.433425784111023, train_accuracy: 0.6695718169212341, val_accuracy: 0.5698408484458923\u001b[0m\n",
      "\u001b[34mEpoch 66/100 | Loss: 1.4082245826721191, train_accuracy: 0.6743084788322449, val_accuracy: 0.5743874907493591\u001b[0m\n",
      "\u001b[34mEpoch 67/100 | Loss: 1.3839834928512573, train_accuracy: 0.6780346035957336, val_accuracy: 0.5779237151145935\u001b[0m\n",
      "\u001b[34mEpoch 68/100 | Loss: 1.3606702089309692, train_accuracy: 0.6815713047981262, val_accuracy: 0.581712543964386\u001b[0m\n",
      "\u001b[34mEpoch 69/100 | Loss: 1.338228702545166, train_accuracy: 0.6854237914085388, val_accuracy: 0.5822177529335022\u001b[0m\n",
      "\u001b[34mEpoch 70/100 | Loss: 1.3166223764419556, train_accuracy: 0.6888973116874695, val_accuracy: 0.5860065817832947\u001b[0m\n",
      "\n",
      "2021-03-26 12:21:03 Uploading - Uploading generated training model\u001b[34mEpoch 71/100 | Loss: 1.2958030700683594, train_accuracy: 0.6918656229972839, val_accuracy: 0.5875220894813538\u001b[0m\n",
      "\u001b[34mEpoch 72/100 | Loss: 1.2757436037063599, train_accuracy: 0.6952759623527527, val_accuracy: 0.5887850522994995\u001b[0m\n",
      "\u001b[34mEpoch 73/100 | Loss: 1.2563894987106323, train_accuracy: 0.697991669178009, val_accuracy: 0.5908057689666748\u001b[0m\n",
      "\u001b[34mEpoch 74/100 | Loss: 1.2377197742462158, train_accuracy: 0.7012757062911987, val_accuracy: 0.5940893888473511\u001b[0m\n",
      "\u001b[34mEpoch 75/100 | Loss: 1.2197082042694092, train_accuracy: 0.7028546333312988, val_accuracy: 0.595857560634613\u001b[0m\n",
      "\u001b[34mEpoch 76/100 | Loss: 1.2023149728775024, train_accuracy: 0.7056334614753723, val_accuracy: 0.5976256728172302\u001b[0m\n",
      "\u001b[34mEpoch 77/100 | Loss: 1.1855107545852661, train_accuracy: 0.7089806795120239, val_accuracy: 0.5998989939689636\u001b[0m\n",
      "\u001b[34mEpoch 78/100 | Loss: 1.1692594289779663, train_accuracy: 0.7108753323554993, val_accuracy: 0.6031826138496399\u001b[0m\n",
      "\u001b[34mEpoch 79/100 | Loss: 1.1535251140594482, train_accuracy: 0.7138436436653137, val_accuracy: 0.6044455766677856\u001b[0m\n",
      "\u001b[34mEpoch 80/100 | Loss: 1.1382818222045898, train_accuracy: 0.7161803841590881, val_accuracy: 0.6064662933349609\u001b[0m\n",
      "\u001b[34mEpoch 81/100 | Loss: 1.123511552810669, train_accuracy: 0.7193381190299988, val_accuracy: 0.6077291965484619\u001b[0m\n",
      "\u001b[34mEpoch 82/100 | Loss: 1.109198808670044, train_accuracy: 0.721611738204956, val_accuracy: 0.6097499132156372\u001b[0m\n",
      "\u001b[34mEpoch 83/100 | Loss: 1.0953161716461182, train_accuracy: 0.7244536876678467, val_accuracy: 0.6107602715492249\u001b[0m\n",
      "\u001b[34mEpoch 84/100 | Loss: 1.081861138343811, train_accuracy: 0.7279272675514221, val_accuracy: 0.614296555519104\u001b[0m\n",
      "\u001b[34mEpoch 85/100 | Loss: 1.0688196420669556, train_accuracy: 0.7307060956954956, val_accuracy: 0.6153069138526917\u001b[0m\n",
      "\u001b[34mEpoch 86/100 | Loss: 1.0561624765396118, train_accuracy: 0.7331691384315491, val_accuracy: 0.6173276305198669\u001b[0m\n",
      "\u001b[34mEpoch 87/100 | Loss: 1.0438785552978516, train_accuracy: 0.7351900935173035, val_accuracy: 0.6203587055206299\u001b[0m\n",
      "\u001b[34mEpoch 88/100 | Loss: 1.0319468975067139, train_accuracy: 0.7381584048271179, val_accuracy: 0.6198534965515137\u001b[0m\n",
      "\u001b[34mEpoch 89/100 | Loss: 1.0203516483306885, train_accuracy: 0.7406214475631714, val_accuracy: 0.6213690042495728\u001b[0m\n",
      "\u001b[34mEpoch 90/100 | Loss: 1.0090734958648682, train_accuracy: 0.7422003149986267, val_accuracy: 0.623389720916748\u001b[0m\n",
      "\u001b[34mEpoch 91/100 | Loss: 0.9981008768081665, train_accuracy: 0.743779182434082, val_accuracy: 0.6246526837348938\u001b[0m\n",
      "\u001b[34mEpoch 92/100 | Loss: 0.9874088764190674, train_accuracy: 0.7461791038513184, val_accuracy: 0.6256630420684814\u001b[0m\n",
      "\u001b[34mEpoch 93/100 | Loss: 0.9769969582557678, train_accuracy: 0.7482632398605347, val_accuracy: 0.6266734004020691\u001b[0m\n",
      "\u001b[34mEpoch 94/100 | Loss: 0.9668464064598083, train_accuracy: 0.749968409538269, val_accuracy: 0.6281889081001282\u001b[0m\n",
      "\u001b[34mEpoch 95/100 | Loss: 0.9569445252418518, train_accuracy: 0.7522420287132263, val_accuracy: 0.6276837587356567\u001b[0m\n",
      "\u001b[34mEpoch 96/100 | Loss: 0.9472843408584595, train_accuracy: 0.7536945939064026, val_accuracy: 0.6276837587356567\u001b[0m\n",
      "\u001b[34mEpoch 97/100 | Loss: 0.9378600120544434, train_accuracy: 0.7557787299156189, val_accuracy: 0.6281889081001282\u001b[0m\n",
      "\u001b[34mEpoch 98/100 | Loss: 0.9286578893661499, train_accuracy: 0.7571681141853333, val_accuracy: 0.6291992664337158\u001b[0m\n",
      "\u001b[34mEpoch 99/100 | Loss: 0.9196712970733643, train_accuracy: 0.7592522501945496, val_accuracy: 0.6299570798873901\u001b[0m\n",
      "\n",
      "2021-03-26 12:21:53 Completed - Training job completed\n",
      "ProfilerReport-1616760939: NoIssuesFound\n",
      "Training seconds: 251\n",
      "Billable seconds: 251\n"
     ]
    }
   ],
   "source": [
    "es.fit()"
   ]
  },
  {
   "cell_type": "code",
   "execution_count": 13,
   "id": "enormous-positive",
   "metadata": {},
   "outputs": [
    {
     "name": "stdout",
     "output_type": "stream",
     "text": [
      "-------------!"
     ]
    }
   ],
   "source": [
    "es_predictor = es.deploy(\n",
    "    instance_type='ml.m5.large',\n",
    "    initial_instance_count=1\n",
    ")"
   ]
  },
  {
   "cell_type": "code",
   "execution_count": 11,
   "id": "wired-hanging",
   "metadata": {},
   "outputs": [
    {
     "name": "stdout",
     "output_type": "stream",
     "text": [
      "b'tensor([[  4.6271,   3.1328,  -0.7734,   2.4674,   2.0575,  -0.0761,  -4.3208,\\n          -2.1375,   3.4420,   0.4862,   1.6299,   5.0871,   5.3637,  -1.2500,\\n          -5.0728,  -1.8494,  -1.9123,  -7.8683,  -7.2599,  -7.3289,   1.4372,\\n          -3.3154,  -2.0654,  -2.2093,  -0.9716,  -0.6761,  -2.1878,  -5.8438,\\n           0.4813,  -1.3457,   0.7249, -12.6670,  -4.8841,   1.1072,   7.6540,\\n          -2.8031,  -1.5386,  -8.0475,   3.4275,  -0.9210,  -6.0783,  -3.6843,\\n           3.9666,   3.2181,  -0.6135,   1.2106,   0.2229,  -0.2590,   9.0986,\\n          -5.7604,  -5.2870,  -2.7012,   2.2441,   2.6202,   4.1308,   1.3312,\\n          -0.0942,  -3.1558,  -0.1163,   2.0456,   1.9385,  -5.6722,  -6.4538,\\n          -2.1106,  -5.4159,  -5.8349,  -0.5502,  -0.8306,  -0.8714,  -3.9067]],\\n       grad_fn=<IndexBackward>)'\n"
     ]
    }
   ],
   "source": [
    "test_samples = ['0']\n",
    "\n",
    "# es_predictor.content_type = 'text/csv' \n",
    "es_predictor.serializer = sagemaker.serializers.CSVSerializer()\n",
    "\n",
    "response = es_predictor.predict(test_samples, initial_args={'ContentType': 'text/csv'}) \n",
    "print(response)"
   ]
  },
  {
   "cell_type": "code",
   "execution_count": 24,
   "id": "attended-salem",
   "metadata": {},
   "outputs": [],
   "source": [
    "es_predictor.delete_endpoint()"
   ]
  },
  {
   "cell_type": "markdown",
   "id": "cross-cancer",
   "metadata": {},
   "source": [
    "## Batch Transform"
   ]
  },
  {
   "cell_type": "code",
   "execution_count": 18,
   "id": "nervous-workstation",
   "metadata": {},
   "outputs": [],
   "source": [
    "sess = sagemaker.Session()\n",
    "prefix = 'kiarash/dgl-citation-network'"
   ]
  },
  {
   "cell_type": "code",
   "execution_count": 23,
   "id": "changing-highlight",
   "metadata": {},
   "outputs": [],
   "source": [
    "batch_input = sess.upload_data(path='../data.csv', key_prefix=prefix + '/batch')"
   ]
  },
  {
   "cell_type": "code",
   "execution_count": 25,
   "id": "capital-station",
   "metadata": {},
   "outputs": [],
   "source": [
    "es_transformer = es.transformer( \n",
    "    instance_count=1, \n",
    "    instance_type='ml.m5.large'\n",
    ")"
   ]
  },
  {
   "cell_type": "code",
   "execution_count": 27,
   "id": "attended-arena",
   "metadata": {},
   "outputs": [
    {
     "name": "stdout",
     "output_type": "stream",
     "text": [
      "..........................\u001b[34mDGL backend not selected or invalid.  Assuming PyTorch for now.\u001b[0m\n",
      "\u001b[34mUsing backend: pytorch\u001b[0m\n",
      "\u001b[34mSetting the default backend to \"pytorch\". You can change it in the ~/.dgl/config.json file or export the DGLBACKEND environment variable.  Valid options are: pytorch, mxnet, tensorflow (all lowercase)\n",
      " * Serving Flask app \"serve\" (lazy loading)\n",
      " * Environment: production\n",
      "   WARNING: This is a development server. Do not use it in a production deployment.\n",
      "   Use a production WSGI server instead.\n",
      " * Debug mode: off\n",
      " * Running on http://0.0.0.0:8080/ (Press CTRL+C to quit)\u001b[0m\n",
      "\u001b[34m169.254.255.130 - - [26/Mar/2021 14:23:44] \"#033[37mGET /ping HTTP/1.1#033[0m\" 200 -\u001b[0m\n",
      "\u001b[34m169.254.255.130 - - [26/Mar/2021 14:23:44] \"#033[33mGET /execution-parameters HTTP/1.1#033[0m\" 404 -\u001b[0m\n",
      "\u001b[34m[2021-03-26 14:23:44,166] ERROR in app: Exception on /invocations [POST]\u001b[0m\n",
      "\u001b[34mTraceback (most recent call last):\n",
      "  File \"/usr/local/lib/python3.9/site-packages/flask/app.py\", line 2447, in wsgi_app\n",
      "    response = self.full_dispatch_request()\n",
      "  File \"/usr/local/lib/python3.9/site-packages/flask/app.py\", line 1952, in full_dispatch_request\n",
      "    rv = self.handle_user_exception(e)\n",
      "  File \"/usr/local/lib/python3.9/site-packages/flask/app.py\", line 1821, in handle_user_exception\n",
      "    reraise(exc_type, exc_value, tb)\n",
      "  File \"/usr/local/lib/python3.9/site-packages/flask/_compat.py\", line 39, in reraise\n",
      "    raise value\n",
      "  File \"/usr/local/lib/python3.9/site-packages/flask/app.py\", line 1950, in full_dispatch_request\n",
      "    rv = self.dispatch_request()\n",
      "  File \"/usr/local/lib/python3.9/site-packages/flask/app.py\", line 1936, in dispatch_request\n",
      "    return self.view_functions[rule.endpoint](**req.view_args)\n",
      "  File \"/usr/bin/serve\", line 40, in predict\n",
      "    response = pred[data.values]\u001b[0m\n",
      "\u001b[34mIndexError: too many indices for tensor of dimension 2\u001b[0m\n",
      "\u001b[34m169.254.255.130 - - [26/Mar/2021 14:23:44] \"#033[35m#033[1mPOST /invocations HTTP/1.1#033[0m\" 500 -\u001b[0m\n",
      "\u001b[34m[2021-03-26 14:23:44,217] ERROR in app: Exception on /invocations [POST]\u001b[0m\n",
      "\u001b[34mTraceback (most recent call last):\n",
      "  File \"/usr/local/lib/python3.9/site-packages/flask/app.py\", line 2447, in wsgi_app\n",
      "    response = self.full_dispatch_request()\n",
      "  File \"/usr/local/lib/python3.9/site-packages/flask/app.py\", line 1952, in full_dispatch_request\n",
      "    rv = self.handle_user_exception(e)\n",
      "  File \"/usr/local/lib/python3.9/site-packages/flask/app.py\", line 1821, in handle_user_exception\n",
      "    reraise(exc_type, exc_value, tb)\n",
      "  File \"/usr/local/lib/python3.9/site-packages/flask/_compat.py\", line 39, in reraise\n",
      "    raise value\n",
      "  File \"/usr/local/lib/python3.9/site-packages/flask/app.py\", line 1950, in full_dispatch_request\n",
      "    rv = self.dispatch_request()\n",
      "  File \"/usr/local/lib/python3.9/site-packages/flask/app.py\", line 1936, in dispatch_request\n",
      "    return self.view_functions[rule.endpoint](**req.view_args)\n",
      "  File \"/usr/bin/serve\", line 40, in predict\n",
      "    response = pred[data.values]\u001b[0m\n",
      "\u001b[34mIndexError: too many indices for tensor of dimension 2\u001b[0m\n",
      "\u001b[34m169.254.255.130 - - [26/Mar/2021 14:23:44] \"#033[35m#033[1mPOST /invocations HTTP/1.1#033[0m\" 500 -\u001b[0m\n",
      "\u001b[34m[2021-03-26 14:23:44,257] ERROR in app: Exception on /invocations [POST]\u001b[0m\n",
      "\u001b[34mTraceback (most recent call last):\n",
      "  File \"/usr/local/lib/python3.9/site-packages/flask/app.py\", line 2447, in wsgi_app\n",
      "    response = self.full_dispatch_request()\n",
      "  File \"/usr/local/lib/python3.9/site-packages/flask/app.py\", line 1952, in full_dispatch_request\n",
      "    rv = self.handle_user_exception(e)\n",
      "  File \"/usr/local/lib/python3.9/site-packages/flask/app.py\", line 1821, in handle_user_exception\n",
      "    reraise(exc_type, exc_value, tb)\n",
      "  File \"/usr/local/lib/python3.9/site-packages/flask/_compat.py\", line 39, in reraise\n",
      "    raise value\n",
      "  File \"/usr/local/lib/python3.9/site-packages/flask/app.py\", line 1950, in full_dispatch_request\n",
      "    rv = self.dispatch_request()\n",
      "  File \"/usr/local/lib/python3.9/site-packages/flask/app.py\", line 1936, in dispatch_request\n",
      "    return self.view_functions[rule.endpoint](**req.view_args)\n",
      "  File \"/usr/bin/serve\", line 40, in predict\n",
      "    response = pred[data.values]\u001b[0m\n",
      "\u001b[34mIndexError: too many indices for tensor of dimension 2\u001b[0m\n",
      "\u001b[34m169.254.255.130 - - [26/Mar/2021 14:23:44] \"#033[35m#033[1mPOST /invocations HTTP/1.1#033[0m\" 500 -\u001b[0m\n",
      "\u001b[34m[2021-03-26 14:23:44,294] ERROR in app: Exception on /invocations [POST]\u001b[0m\n",
      "\u001b[34mTraceback (most recent call last):\n",
      "  File \"/usr/local/lib/python3.9/site-packages/flask/app.py\", line 2447, in wsgi_app\n",
      "    response = self.full_dispatch_request()\n",
      "  File \"/usr/local/lib/python3.9/site-packages/flask/app.py\", line 1952, in full_dispatch_request\n",
      "    rv = self.handle_user_exception(e)\n",
      "  File \"/usr/local/lib/python3.9/site-packages/flask/app.py\", line 1821, in handle_user_exception\n",
      "    reraise(exc_type, exc_value, tb)\n",
      "  File \"/usr/local/lib/python3.9/site-packages/flask/_compat.py\", line 39, in reraise\n",
      "    raise value\n",
      "  File \"/usr/local/lib/python3.9/site-packages/flask/app.py\", line 1950, in full_dispatch_request\n",
      "    rv = self.dispatch_request()\n",
      "  File \"/usr/local/lib/python3.9/site-packages/flask/app.py\", line 1936, in dispatch_request\n",
      "    return self.view_functions[rule.endpoint](**req.view_args)\n",
      "  File \"/usr/bin/serve\", line 40, in predict\n",
      "    response = pred[data.values]\u001b[0m\n",
      "\u001b[34mIndexError: too many indices for tensor of dimension 2\u001b[0m\n",
      "\u001b[34m169.254.255.130 - - [26/Mar/2021 14:23:44] \"#033[35m#033[1mPOST /invocations HTTP/1.1#033[0m\" 500 -\u001b[0m\n",
      "\n",
      "\u001b[32m2021-03-26T14:23:44.022:[sagemaker logs]: MaxConcurrentTransforms=1, MaxPayloadInMB=6, BatchStrategy=MULTI_RECORD\u001b[0m\n",
      "\u001b[32m2021-03-26T14:23:44.301:[sagemaker logs]: sagemaker-eu-west-1-939595455984/kiarash/dgl-citation-network/batch/data.csv: Bad HTTP status received from algorithm: 500\u001b[0m\n",
      "\u001b[32m2021-03-26T14:23:44.301:[sagemaker logs]: sagemaker-eu-west-1-939595455984/kiarash/dgl-citation-network/batch/data.csv: \u001b[0m\n",
      "\u001b[32m2021-03-26T14:23:44.301:[sagemaker logs]: sagemaker-eu-west-1-939595455984/kiarash/dgl-citation-network/batch/data.csv: Message:\u001b[0m\n",
      "\u001b[32m2021-03-26T14:23:44.301:[sagemaker logs]: sagemaker-eu-west-1-939595455984/kiarash/dgl-citation-network/batch/data.csv: <!DOCTYPE HTML PUBLIC \"-//W3C//DTD HTML 3.2 Final//EN\">\u001b[0m\n",
      "\u001b[32m2021-03-26T14:23:44.301:[sagemaker logs]: sagemaker-eu-west-1-939595455984/kiarash/dgl-citation-network/batch/data.csv: <title>500 Internal Server Error</title>\u001b[0m\n",
      "\u001b[32m2021-03-26T14:23:44.301:[sagemaker logs]: sagemaker-eu-west-1-939595455984/kiarash/dgl-citation-network/batch/data.csv: <h1>Internal Server Error</h1>\u001b[0m\n",
      "\u001b[32m2021-03-26T14:23:44.301:[sagemaker logs]: sagemaker-eu-west-1-939595455984/kiarash/dgl-citation-network/batch/data.csv: <p>The server encountered an internal error and was unable to complete your request. Either the server is overloaded or there is an error in the application.</p>\u001b[0m\n"
     ]
    },
    {
     "ename": "UnexpectedStatusException",
     "evalue": "Error for Transform job dgl-citation-network-2021-03-26-14-19-27-147: Failed. Reason: AlgorithmError: See job logs for more information",
     "output_type": "error",
     "traceback": [
      "\u001b[0;31m---------------------------------------------------------------------------\u001b[0m",
      "\u001b[0;31mUnexpectedStatusException\u001b[0m                 Traceback (most recent call last)",
      "\u001b[0;32m<ipython-input-27-d1663ca241fb>\u001b[0m in \u001b[0;36m<module>\u001b[0;34m\u001b[0m\n\u001b[1;32m      3\u001b[0m     \u001b[0mcontent_type\u001b[0m\u001b[0;34m=\u001b[0m\u001b[0;34m'text/csv'\u001b[0m\u001b[0;34m,\u001b[0m\u001b[0;34m\u001b[0m\u001b[0;34m\u001b[0m\u001b[0m\n\u001b[1;32m      4\u001b[0m     \u001b[0mwait\u001b[0m\u001b[0;34m=\u001b[0m\u001b[0;32mTrue\u001b[0m\u001b[0;34m,\u001b[0m\u001b[0;34m\u001b[0m\u001b[0;34m\u001b[0m\u001b[0m\n\u001b[0;32m----> 5\u001b[0;31m     \u001b[0mlogs\u001b[0m\u001b[0;34m=\u001b[0m\u001b[0;32mTrue\u001b[0m\u001b[0;34m\u001b[0m\u001b[0;34m\u001b[0m\u001b[0m\n\u001b[0m\u001b[1;32m      6\u001b[0m )\n",
      "\u001b[0;32m~/anaconda3/envs/pytorch_latest_p36/lib/python3.6/site-packages/sagemaker/transformer.py\u001b[0m in \u001b[0;36mtransform\u001b[0;34m(self, data, data_type, content_type, compression_type, split_type, job_name, input_filter, output_filter, join_source, experiment_config, model_client_config, wait, logs)\u001b[0m\n\u001b[1;32m    216\u001b[0m \u001b[0;34m\u001b[0m\u001b[0m\n\u001b[1;32m    217\u001b[0m         \u001b[0;32mif\u001b[0m \u001b[0mwait\u001b[0m\u001b[0;34m:\u001b[0m\u001b[0;34m\u001b[0m\u001b[0;34m\u001b[0m\u001b[0m\n\u001b[0;32m--> 218\u001b[0;31m             \u001b[0mself\u001b[0m\u001b[0;34m.\u001b[0m\u001b[0mlatest_transform_job\u001b[0m\u001b[0;34m.\u001b[0m\u001b[0mwait\u001b[0m\u001b[0;34m(\u001b[0m\u001b[0mlogs\u001b[0m\u001b[0;34m=\u001b[0m\u001b[0mlogs\u001b[0m\u001b[0;34m)\u001b[0m\u001b[0;34m\u001b[0m\u001b[0;34m\u001b[0m\u001b[0m\n\u001b[0m\u001b[1;32m    219\u001b[0m \u001b[0;34m\u001b[0m\u001b[0m\n\u001b[1;32m    220\u001b[0m     \u001b[0;32mdef\u001b[0m \u001b[0mdelete_model\u001b[0m\u001b[0;34m(\u001b[0m\u001b[0mself\u001b[0m\u001b[0;34m)\u001b[0m\u001b[0;34m:\u001b[0m\u001b[0;34m\u001b[0m\u001b[0;34m\u001b[0m\u001b[0m\n",
      "\u001b[0;32m~/anaconda3/envs/pytorch_latest_p36/lib/python3.6/site-packages/sagemaker/transformer.py\u001b[0m in \u001b[0;36mwait\u001b[0;34m(self, logs)\u001b[0m\n\u001b[1;32m    412\u001b[0m     \u001b[0;32mdef\u001b[0m \u001b[0mwait\u001b[0m\u001b[0;34m(\u001b[0m\u001b[0mself\u001b[0m\u001b[0;34m,\u001b[0m \u001b[0mlogs\u001b[0m\u001b[0;34m=\u001b[0m\u001b[0;32mTrue\u001b[0m\u001b[0;34m)\u001b[0m\u001b[0;34m:\u001b[0m\u001b[0;34m\u001b[0m\u001b[0;34m\u001b[0m\u001b[0m\n\u001b[1;32m    413\u001b[0m         \u001b[0;32mif\u001b[0m \u001b[0mlogs\u001b[0m\u001b[0;34m:\u001b[0m\u001b[0;34m\u001b[0m\u001b[0;34m\u001b[0m\u001b[0m\n\u001b[0;32m--> 414\u001b[0;31m             \u001b[0mself\u001b[0m\u001b[0;34m.\u001b[0m\u001b[0msagemaker_session\u001b[0m\u001b[0;34m.\u001b[0m\u001b[0mlogs_for_transform_job\u001b[0m\u001b[0;34m(\u001b[0m\u001b[0mself\u001b[0m\u001b[0;34m.\u001b[0m\u001b[0mjob_name\u001b[0m\u001b[0;34m,\u001b[0m \u001b[0mwait\u001b[0m\u001b[0;34m=\u001b[0m\u001b[0;32mTrue\u001b[0m\u001b[0;34m)\u001b[0m\u001b[0;34m\u001b[0m\u001b[0;34m\u001b[0m\u001b[0m\n\u001b[0m\u001b[1;32m    415\u001b[0m         \u001b[0;32melse\u001b[0m\u001b[0;34m:\u001b[0m\u001b[0;34m\u001b[0m\u001b[0;34m\u001b[0m\u001b[0m\n\u001b[1;32m    416\u001b[0m             \u001b[0mself\u001b[0m\u001b[0;34m.\u001b[0m\u001b[0msagemaker_session\u001b[0m\u001b[0;34m.\u001b[0m\u001b[0mwait_for_transform_job\u001b[0m\u001b[0;34m(\u001b[0m\u001b[0mself\u001b[0m\u001b[0;34m.\u001b[0m\u001b[0mjob_name\u001b[0m\u001b[0;34m)\u001b[0m\u001b[0;34m\u001b[0m\u001b[0;34m\u001b[0m\u001b[0m\n",
      "\u001b[0;32m~/anaconda3/envs/pytorch_latest_p36/lib/python3.6/site-packages/sagemaker/session.py\u001b[0m in \u001b[0;36mlogs_for_transform_job\u001b[0;34m(self, job_name, wait, poll)\u001b[0m\n\u001b[1;32m   3818\u001b[0m \u001b[0;34m\u001b[0m\u001b[0m\n\u001b[1;32m   3819\u001b[0m         \u001b[0;32mif\u001b[0m \u001b[0mwait\u001b[0m\u001b[0;34m:\u001b[0m\u001b[0;34m\u001b[0m\u001b[0;34m\u001b[0m\u001b[0m\n\u001b[0;32m-> 3820\u001b[0;31m             \u001b[0mself\u001b[0m\u001b[0;34m.\u001b[0m\u001b[0m_check_job_status\u001b[0m\u001b[0;34m(\u001b[0m\u001b[0mjob_name\u001b[0m\u001b[0;34m,\u001b[0m \u001b[0mdescription\u001b[0m\u001b[0;34m,\u001b[0m \u001b[0;34m\"TransformJobStatus\"\u001b[0m\u001b[0;34m)\u001b[0m\u001b[0;34m\u001b[0m\u001b[0;34m\u001b[0m\u001b[0m\n\u001b[0m\u001b[1;32m   3821\u001b[0m             \u001b[0;32mif\u001b[0m \u001b[0mdot\u001b[0m\u001b[0;34m:\u001b[0m\u001b[0;34m\u001b[0m\u001b[0;34m\u001b[0m\u001b[0m\n\u001b[1;32m   3822\u001b[0m                 \u001b[0mprint\u001b[0m\u001b[0;34m(\u001b[0m\u001b[0;34m)\u001b[0m\u001b[0;34m\u001b[0m\u001b[0;34m\u001b[0m\u001b[0m\n",
      "\u001b[0;32m~/anaconda3/envs/pytorch_latest_p36/lib/python3.6/site-packages/sagemaker/session.py\u001b[0m in \u001b[0;36m_check_job_status\u001b[0;34m(self, job, desc, status_key_name)\u001b[0m\n\u001b[1;32m   3220\u001b[0m                 ),\n\u001b[1;32m   3221\u001b[0m                 \u001b[0mallowed_statuses\u001b[0m\u001b[0;34m=\u001b[0m\u001b[0;34m[\u001b[0m\u001b[0;34m\"Completed\"\u001b[0m\u001b[0;34m,\u001b[0m \u001b[0;34m\"Stopped\"\u001b[0m\u001b[0;34m]\u001b[0m\u001b[0;34m,\u001b[0m\u001b[0;34m\u001b[0m\u001b[0;34m\u001b[0m\u001b[0m\n\u001b[0;32m-> 3222\u001b[0;31m                 \u001b[0mactual_status\u001b[0m\u001b[0;34m=\u001b[0m\u001b[0mstatus\u001b[0m\u001b[0;34m,\u001b[0m\u001b[0;34m\u001b[0m\u001b[0;34m\u001b[0m\u001b[0m\n\u001b[0m\u001b[1;32m   3223\u001b[0m             )\n\u001b[1;32m   3224\u001b[0m \u001b[0;34m\u001b[0m\u001b[0m\n",
      "\u001b[0;31mUnexpectedStatusException\u001b[0m: Error for Transform job dgl-citation-network-2021-03-26-14-19-27-147: Failed. Reason: AlgorithmError: See job logs for more information"
     ]
    }
   ],
   "source": [
    "es_transformer.transform(\n",
    "    batch_input, \n",
    "    content_type='text/csv', \n",
    "    wait=True, \n",
    "    logs=True\n",
    ")"
   ]
  },
  {
   "cell_type": "code",
   "execution_count": null,
   "id": "animated-sport",
   "metadata": {},
   "outputs": [],
   "source": [
    "print(es_transformer.output_path)"
   ]
  }
 ],
 "metadata": {
  "kernelspec": {
   "display_name": "conda_pytorch_latest_p36",
   "language": "python",
   "name": "conda_pytorch_latest_p36"
  },
  "language_info": {
   "codemirror_mode": {
    "name": "ipython",
    "version": 3
   },
   "file_extension": ".py",
   "mimetype": "text/x-python",
   "name": "python",
   "nbconvert_exporter": "python",
   "pygments_lexer": "ipython3",
   "version": "3.6.13"
  }
 },
 "nbformat": 4,
 "nbformat_minor": 5
}
