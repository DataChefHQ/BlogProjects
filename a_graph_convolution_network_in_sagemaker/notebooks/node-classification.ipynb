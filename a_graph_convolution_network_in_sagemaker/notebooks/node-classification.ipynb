{
 "metadata": {
  "language_info": {
   "codemirror_mode": {
    "name": "ipython",
    "version": 3
   },
   "file_extension": ".py",
   "mimetype": "text/x-python",
   "name": "python",
   "nbconvert_exporter": "python",
   "pygments_lexer": "ipython3",
   "version": "3.9.0"
  },
  "orig_nbformat": 2,
  "kernelspec": {
   "name": "python390jvsc74a57bd0b05fcc5252944b7939c64f06d71d2c86dae04a6319ec0d0119eb8f9cab5e70a3",
   "display_name": "Python 3.9.0 64-bit ('venv')"
  },
  "metadata": {
   "interpreter": {
    "hash": "b05fcc5252944b7939c64f06d71d2c86dae04a6319ec0d0119eb8f9cab5e70a3"
   }
  }
 },
 "nbformat": 4,
 "nbformat_minor": 2,
 "cells": [
  {
   "cell_type": "code",
   "execution_count": 17,
   "metadata": {},
   "outputs": [],
   "source": [
    "from dgl.data import CoraFullDataset\n",
    "from dgl.data.utils import split_dataset\n",
    "import numpy as np\n",
    "import pickle"
   ]
  },
  {
   "cell_type": "code",
   "execution_count": 2,
   "metadata": {},
   "outputs": [],
   "source": [
    "dataset = CoraFullDataset()\n",
    "graph = dataset[0]"
   ]
  },
  {
   "cell_type": "code",
   "execution_count": 5,
   "metadata": {},
   "outputs": [
    {
     "output_type": "stream",
     "name": "stderr",
     "text": [
      "/Users/kiarash/projects/dgl-node-classification-sagemaker/venv/lib/python3.9/site-packages/dgl/base.py:45: DGLWarning: DGLGraph.__len__ is deprecated.Please directly call DGLGraph.number_of_nodes.\n  return warnings.warn(message, category=category, stacklevel=1)\n"
     ]
    }
   ],
   "source": [
    "train_mask, val_mask = split_dataset(graph, [0.8, 0.2])"
   ]
  },
  {
   "cell_type": "code",
   "execution_count": 6,
   "metadata": {},
   "outputs": [
    {
     "output_type": "execute_result",
     "data": {
      "text/plain": [
       "15834"
      ]
     },
     "metadata": {},
     "execution_count": 6
    }
   ],
   "source": [
    "len(train_mask)"
   ]
  },
  {
   "cell_type": "code",
   "execution_count": 15,
   "metadata": {},
   "outputs": [
    {
     "output_type": "execute_result",
     "data": {
      "text/plain": [
       "3959"
      ]
     },
     "metadata": {},
     "execution_count": 15
    }
   ],
   "source": [
    "len(val_mask)"
   ]
  },
  {
   "cell_type": "code",
   "execution_count": 25,
   "metadata": {},
   "outputs": [],
   "source": [
    "fileObj = open('../model/validation_indices.bin', 'wb')\n",
    "pickle.dump(val_mask.indices, fileObj)\n",
    "fileObj.close()"
   ]
  },
  {
   "cell_type": "code",
   "execution_count": 26,
   "metadata": {},
   "outputs": [],
   "source": [
    "fileObj = open('../model/train_indices.bin', 'wb')\n",
    "pickle.dump(train_mask.indices, fileObj)\n",
    "fileObj.close()"
   ]
  },
  {
   "cell_type": "code",
   "execution_count": 21,
   "metadata": {},
   "outputs": [
    {
     "output_type": "stream",
     "name": "stdout",
     "text": [
      "Help on Subset in module dgl.data.utils object:\n\nclass Subset(builtins.object)\n |  Subset(dataset, indices)\n |  \n |  Subset of a dataset at specified indices\n |  \n |  Code adapted from PyTorch.\n |  \n |  Parameters\n |  ----------\n |  dataset\n |      dataset[i] should return the ith datapoint\n |  indices : list\n |      List of datapoint indices to construct the subset\n |  \n |  Methods defined here:\n |  \n |  __getitem__(self, item)\n |      Get the datapoint indexed by item\n |      \n |      Returns\n |      -------\n |      tuple\n |          datapoint\n |  \n |  __init__(self, dataset, indices)\n |      Initialize self.  See help(type(self)) for accurate signature.\n |  \n |  __len__(self)\n |      Get subset size\n |      \n |      Returns\n |      -------\n |      int\n |          Number of datapoints in the subset\n |  \n |  ----------------------------------------------------------------------\n |  Data descriptors defined here:\n |  \n |  __dict__\n |      dictionary for instance variables (if defined)\n |  \n |  __weakref__\n |      list of weak references to the object (if defined)\n |  \n |  ----------------------------------------------------------------------\n |  Data and other attributes defined here:\n |  \n |  __slotnames__ = []\n\n"
     ]
    }
   ],
   "source": [
    "help(val_mask)"
   ]
  },
  {
   "cell_type": "code",
   "execution_count": 23,
   "metadata": {},
   "outputs": [
    {
     "output_type": "execute_result",
     "data": {
      "text/plain": [
       "3959"
      ]
     },
     "metadata": {},
     "execution_count": 23
    }
   ],
   "source": [
    "len(val_mask.indices)"
   ]
  },
  {
   "cell_type": "code",
   "execution_count": 24,
   "metadata": {},
   "outputs": [
    {
     "output_type": "execute_result",
     "data": {
      "text/plain": [
       "Graph(num_nodes=19793, num_edges=126842,\n",
       "      ndata_schemes={'label': Scheme(shape=(), dtype=torch.int64), 'feat': Scheme(shape=(8710,), dtype=torch.float32)}\n",
       "      edata_schemes={})"
      ]
     },
     "metadata": {},
     "execution_count": 24
    }
   ],
   "source": [
    "val_mask.dataset"
   ]
  },
  {
   "cell_type": "code",
   "execution_count": 28,
   "metadata": {},
   "outputs": [
    {
     "output_type": "execute_result",
     "data": {
      "text/plain": [
       "Graph(num_nodes=19793, num_edges=126842,\n",
       "      ndata_schemes={'label': Scheme(shape=(), dtype=torch.int64), 'feat': Scheme(shape=(8710,), dtype=torch.float32)}\n",
       "      edata_schemes={})"
      ]
     },
     "metadata": {},
     "execution_count": 28
    }
   ],
   "source": [
    "val_mask.dataset"
   ]
  },
  {
   "cell_type": "code",
   "execution_count": 33,
   "metadata": {},
   "outputs": [
    {
     "output_type": "execute_result",
     "data": {
      "text/plain": [
       "70"
      ]
     },
     "metadata": {},
     "execution_count": 33
    }
   ],
   "source": [
    "len(graph.ndata['label'].unique())"
   ]
  },
  {
   "cell_type": "code",
   "execution_count": null,
   "metadata": {},
   "outputs": [],
   "source": []
  }
 ]
}