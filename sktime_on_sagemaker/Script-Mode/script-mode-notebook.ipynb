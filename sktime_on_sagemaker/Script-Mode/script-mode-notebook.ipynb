{
 "cells": [
  {
   "cell_type": "markdown",
   "id": "ddc381f6",
   "metadata": {},
   "source": [
    "# Run a sktime model on Amazon SageMaker (Script Mode) "
   ]
  },
  {
   "cell_type": "code",
   "execution_count": 1,
   "id": "bb42e0ee",
   "metadata": {},
   "outputs": [
    {
     "name": "stdout",
     "output_type": "stream",
     "text": [
      "\u001b[33mWARNING: You are using pip version 21.1.2; however, version 21.2.3 is available.\n",
      "You should consider upgrading via the '/home/ec2-user/anaconda3/envs/python3/bin/python -m pip install --upgrade pip' command.\u001b[0m\n",
      "\u001b[33mWARNING: You are using pip version 21.1.2; however, version 21.2.3 is available.\n",
      "You should consider upgrading via the '/home/ec2-user/anaconda3/envs/python3/bin/python -m pip install --upgrade pip' command.\u001b[0m\n"
     ]
    },
    {
     "data": {
      "text/html": [
       "<script>Jupyter.notebook.kernel.restart()</script>"
      ],
      "text/plain": [
       "<IPython.core.display.HTML object>"
      ]
     },
     "execution_count": 1,
     "metadata": {},
     "output_type": "execute_result"
    }
   ],
   "source": [
    "# install/upgrade needed package\n",
    "# please restart the notebook after the installation finished\n",
    "!pip install -q sktime\n",
    "!pip install -q -U sagemaker"
   ]
  },
  {
   "cell_type": "code",
   "execution_count": 5,
   "id": "6c636f80",
   "metadata": {},
   "outputs": [],
   "source": [
    "import sagemaker\n",
    "\n",
    "session = sagemaker.Session()\n",
    "bucket = session.default_bucket()"
   ]
  },
  {
   "cell_type": "markdown",
   "id": "52bcbb5d",
   "metadata": {},
   "source": [
    "## Prepare our dataset"
   ]
  },
  {
   "cell_type": "code",
   "execution_count": 6,
   "id": "f66b28b9",
   "metadata": {},
   "outputs": [
    {
     "data": {
      "text/plain": [
       "Period\n",
       "1949-01    112.0\n",
       "1949-02    118.0\n",
       "1949-03    132.0\n",
       "1949-04    129.0\n",
       "1949-05    121.0\n",
       "           ...  \n",
       "1960-08    606.0\n",
       "1960-09    508.0\n",
       "1960-10    461.0\n",
       "1960-11    390.0\n",
       "1960-12    432.0\n",
       "Freq: M, Name: Number of airline passengers, Length: 144, dtype: float64"
      ]
     },
     "execution_count": 6,
     "metadata": {},
     "output_type": "execute_result"
    }
   ],
   "source": [
    "import pandas as pd\n",
    "import numpy as np\n",
    "from sktime.datasets import load_airline\n",
    "\n",
    "airline_dataset = load_airline()\n",
    "airline_dataset"
   ]
  },
  {
   "cell_type": "code",
   "execution_count": 7,
   "id": "1363f96c",
   "metadata": {},
   "outputs": [],
   "source": [
    "airline_dataset.to_csv('airline.csv')"
   ]
  },
  {
   "cell_type": "markdown",
   "id": "aa1b567b",
   "metadata": {},
   "source": [
    "## Upload dataset to S3 bucket so it can be passed to our Training Job"
   ]
  },
  {
   "cell_type": "code",
   "execution_count": 8,
   "id": "d2fedb3b",
   "metadata": {},
   "outputs": [
    {
     "name": "stdout",
     "output_type": "stream",
     "text": [
      "s3://sagemaker-ali-playground/sklearn-sktime-airline/training/airline.csv\n",
      "s3://sagemaker-ali-playground/sklearn-sktime-airline/output/\n"
     ]
    }
   ],
   "source": [
    "prefix = 'sklearn-sktime-airline'\n",
    "\n",
    "training = session.upload_data(path='airline.csv', key_prefix=prefix + \"/training\")\n",
    "output   = 's3://{}/{}/output/'.format(bucket, prefix)\n",
    "print(training)\n",
    "print(output)"
   ]
  },
  {
   "cell_type": "markdown",
   "id": "301a6c0f",
   "metadata": {},
   "source": [
    "## Defining SageMaker Training Job"
   ]
  },
  {
   "cell_type": "code",
   "execution_count": 10,
   "id": "b721465e",
   "metadata": {},
   "outputs": [
    {
     "name": "stdout",
     "output_type": "stream",
     "text": [
      "2021-08-11 17:04:25 Starting - Starting the training job...\n",
      "2021-08-11 17:04:47 Starting - Launching requested ML instancesProfilerReport-1628701465: InProgress\n",
      "......\n",
      "2021-08-11 17:05:48 Starting - Preparing the instances for training......\n",
      "2021-08-11 17:06:54 Downloading - Downloading input data...\n",
      "2021-08-11 17:07:14 Training - Downloading the training image..\u001b[34m2021-08-11 17:07:38,180 sagemaker-containers INFO     Imported framework sagemaker_sklearn_container.training\u001b[0m\n",
      "\u001b[34m2021-08-11 17:07:38,182 sagemaker-training-toolkit INFO     No GPUs detected (normal if no gpus installed)\u001b[0m\n",
      "\u001b[34m2021-08-11 17:07:38,191 sagemaker_sklearn_container.training INFO     Invoking user training script.\u001b[0m\n",
      "\u001b[34m2021-08-11 17:07:38,455 sagemaker-training-toolkit INFO     No GPUs detected (normal if no gpus installed)\u001b[0m\n",
      "\u001b[34m2021-08-11 17:07:39,076 sagemaker-training-toolkit INFO     No GPUs detected (normal if no gpus installed)\u001b[0m\n",
      "\u001b[34m2021-08-11 17:07:39,088 sagemaker-training-toolkit INFO     No GPUs detected (normal if no gpus installed)\u001b[0m\n",
      "\u001b[34m2021-08-11 17:07:39,102 sagemaker-training-toolkit INFO     Invoking user script\n",
      "\u001b[0m\n",
      "\u001b[34mTraining Env:\n",
      "\u001b[0m\n",
      "\u001b[34m{\n",
      "    \"additional_framework_parameters\": {},\n",
      "    \"channel_input_dirs\": {\n",
      "        \"training\": \"/opt/ml/input/data/training\"\n",
      "    },\n",
      "    \"current_host\": \"algo-1\",\n",
      "    \"framework_module\": \"sagemaker_sklearn_container.training:main\",\n",
      "    \"hosts\": [\n",
      "        \"algo-1\"\n",
      "    ],\n",
      "    \"hyperparameters\": {},\n",
      "    \"input_config_dir\": \"/opt/ml/input/config\",\n",
      "    \"input_data_config\": {\n",
      "        \"training\": {\n",
      "            \"TrainingInputMode\": \"File\",\n",
      "            \"S3DistributionType\": \"FullyReplicated\",\n",
      "            \"RecordWrapperType\": \"None\"\n",
      "        }\n",
      "    },\n",
      "    \"input_dir\": \"/opt/ml/input\",\n",
      "    \"is_master\": true,\n",
      "    \"job_name\": \"sktime-test-model-2021-08-11-17-04-25-024\",\n",
      "    \"log_level\": 20,\n",
      "    \"master_hostname\": \"algo-1\",\n",
      "    \"model_dir\": \"/opt/ml/model\",\n",
      "    \"module_dir\": \"s3://sagemaker-ali-playground/sktime-test-model-2021-08-11-17-04-25-024/source/sourcedir.tar.gz\",\n",
      "    \"module_name\": \"sktime_sagemaker\",\n",
      "    \"network_interface_name\": \"eth0\",\n",
      "    \"num_cpus\": 2,\n",
      "    \"num_gpus\": 0,\n",
      "    \"output_data_dir\": \"/opt/ml/output/data\",\n",
      "    \"output_dir\": \"/opt/ml/output\",\n",
      "    \"output_intermediate_dir\": \"/opt/ml/output/intermediate\",\n",
      "    \"resource_config\": {\n",
      "        \"current_host\": \"algo-1\",\n",
      "        \"hosts\": [\n",
      "            \"algo-1\"\n",
      "        ],\n",
      "        \"network_interface_name\": \"eth0\"\n",
      "    },\n",
      "    \"user_entry_point\": \"sktime_sagemaker.py\"\u001b[0m\n",
      "\u001b[34m}\n",
      "\u001b[0m\n",
      "\u001b[34mEnvironment variables:\n",
      "\u001b[0m\n",
      "\u001b[34mSM_HOSTS=[\"algo-1\"]\u001b[0m\n",
      "\u001b[34mSM_NETWORK_INTERFACE_NAME=eth0\u001b[0m\n",
      "\u001b[34mSM_HPS={}\u001b[0m\n",
      "\u001b[34mSM_USER_ENTRY_POINT=sktime_sagemaker.py\u001b[0m\n",
      "\u001b[34mSM_FRAMEWORK_PARAMS={}\u001b[0m\n",
      "\u001b[34mSM_RESOURCE_CONFIG={\"current_host\":\"algo-1\",\"hosts\":[\"algo-1\"],\"network_interface_name\":\"eth0\"}\u001b[0m\n",
      "\u001b[34mSM_INPUT_DATA_CONFIG={\"training\":{\"RecordWrapperType\":\"None\",\"S3DistributionType\":\"FullyReplicated\",\"TrainingInputMode\":\"File\"}}\u001b[0m\n",
      "\u001b[34mSM_OUTPUT_DATA_DIR=/opt/ml/output/data\u001b[0m\n",
      "\u001b[34mSM_CHANNELS=[\"training\"]\u001b[0m\n",
      "\u001b[34mSM_CURRENT_HOST=algo-1\u001b[0m\n",
      "\u001b[34mSM_MODULE_NAME=sktime_sagemaker\u001b[0m\n",
      "\u001b[34mSM_LOG_LEVEL=20\u001b[0m\n",
      "\u001b[34mSM_FRAMEWORK_MODULE=sagemaker_sklearn_container.training:main\u001b[0m\n",
      "\u001b[34mSM_INPUT_DIR=/opt/ml/input\u001b[0m\n",
      "\u001b[34mSM_INPUT_CONFIG_DIR=/opt/ml/input/config\u001b[0m\n",
      "\u001b[34mSM_OUTPUT_DIR=/opt/ml/output\u001b[0m\n",
      "\u001b[34mSM_NUM_CPUS=2\u001b[0m\n",
      "\u001b[34mSM_NUM_GPUS=0\u001b[0m\n",
      "\u001b[34mSM_MODEL_DIR=/opt/ml/model\u001b[0m\n",
      "\u001b[34mSM_MODULE_DIR=s3://sagemaker-ali-playground/sktime-test-model-2021-08-11-17-04-25-024/source/sourcedir.tar.gz\u001b[0m\n",
      "\u001b[34mSM_TRAINING_ENV={\"additional_framework_parameters\":{},\"channel_input_dirs\":{\"training\":\"/opt/ml/input/data/training\"},\"current_host\":\"algo-1\",\"framework_module\":\"sagemaker_sklearn_container.training:main\",\"hosts\":[\"algo-1\"],\"hyperparameters\":{},\"input_config_dir\":\"/opt/ml/input/config\",\"input_data_config\":{\"training\":{\"RecordWrapperType\":\"None\",\"S3DistributionType\":\"FullyReplicated\",\"TrainingInputMode\":\"File\"}},\"input_dir\":\"/opt/ml/input\",\"is_master\":true,\"job_name\":\"sktime-test-model-2021-08-11-17-04-25-024\",\"log_level\":20,\"master_hostname\":\"algo-1\",\"model_dir\":\"/opt/ml/model\",\"module_dir\":\"s3://sagemaker-ali-playground/sktime-test-model-2021-08-11-17-04-25-024/source/sourcedir.tar.gz\",\"module_name\":\"sktime_sagemaker\",\"network_interface_name\":\"eth0\",\"num_cpus\":2,\"num_gpus\":0,\"output_data_dir\":\"/opt/ml/output/data\",\"output_dir\":\"/opt/ml/output\",\"output_intermediate_dir\":\"/opt/ml/output/intermediate\",\"resource_config\":{\"current_host\":\"algo-1\",\"hosts\":[\"algo-1\"],\"network_interface_name\":\"eth0\"},\"user_entry_point\":\"sktime_sagemaker.py\"}\u001b[0m\n",
      "\u001b[34mSM_USER_ARGS=[]\u001b[0m\n",
      "\u001b[34mSM_OUTPUT_INTERMEDIATE_DIR=/opt/ml/output/intermediate\u001b[0m\n",
      "\u001b[34mSM_CHANNEL_TRAINING=/opt/ml/input/data/training\u001b[0m\n",
      "\u001b[34mPYTHONPATH=/opt/ml/code:/miniconda3/bin:/miniconda3/lib/python37.zip:/miniconda3/lib/python3.7:/miniconda3/lib/python3.7/lib-dynload:/miniconda3/lib/python3.7/site-packages\n",
      "\u001b[0m\n",
      "\u001b[34mInvoking script with the following command:\n",
      "\u001b[0m\n",
      "\u001b[34m/miniconda3/bin/python sktime_sagemaker.py\n",
      "\n",
      "\u001b[0m\n",
      "\u001b[34mCollecting sktime\n",
      "  Downloading sktime-0.7.0-cp37-cp37m-manylinux_2_17_x86_64.manylinux2014_x86_64.whl (5.8 MB)\u001b[0m\n",
      "\u001b[34mCollecting numba>=0.50\n",
      "  Downloading numba-0.53.1-cp37-cp37m-manylinux2014_x86_64.whl (3.4 MB)\u001b[0m\n",
      "\u001b[34mRequirement already satisfied: numpy>=1.19.0 in /miniconda3/lib/python3.7/site-packages (from sktime) (1.19.2)\u001b[0m\n",
      "\u001b[34mCollecting statsmodels>=0.12.1\n",
      "  Downloading statsmodels-0.12.2-cp37-cp37m-manylinux1_x86_64.whl (9.5 MB)\u001b[0m\n",
      "\u001b[34mCollecting scikit-learn>=0.24.0\n",
      "  Downloading scikit_learn-0.24.2-cp37-cp37m-manylinux2010_x86_64.whl (22.3 MB)\u001b[0m\n",
      "\u001b[34mRequirement already satisfied: pandas>=1.1.0 in /miniconda3/lib/python3.7/site-packages (from sktime) (1.1.3)\u001b[0m\n",
      "\u001b[34mRequirement already satisfied: wheel in /miniconda3/lib/python3.7/site-packages (from sktime) (0.36.2)\u001b[0m\n",
      "\u001b[34mCollecting llvmlite<0.37,>=0.36.0rc1\n",
      "  Downloading llvmlite-0.36.0-cp37-cp37m-manylinux2010_x86_64.whl (25.3 MB)\u001b[0m\n",
      "\u001b[34mRequirement already satisfied: setuptools in /miniconda3/lib/python3.7/site-packages (from numba>=0.50->sktime) (52.0.0.post20210125)\u001b[0m\n",
      "\u001b[34mRequirement already satisfied: python-dateutil>=2.7.3 in /miniconda3/lib/python3.7/site-packages (from pandas>=1.1.0->sktime) (2.8.1)\u001b[0m\n",
      "\u001b[34mRequirement already satisfied: pytz>=2017.2 in /miniconda3/lib/python3.7/site-packages (from pandas>=1.1.0->sktime) (2021.1)\u001b[0m\n",
      "\u001b[34mRequirement already satisfied: six>=1.5 in /miniconda3/lib/python3.7/site-packages (from python-dateutil>=2.7.3->pandas>=1.1.0->sktime) (1.15.0)\u001b[0m\n",
      "\u001b[34mRequirement already satisfied: joblib>=0.11 in /miniconda3/lib/python3.7/site-packages (from scikit-learn>=0.24.0->sktime) (1.0.1)\u001b[0m\n",
      "\u001b[34mRequirement already satisfied: scipy>=0.19.1 in /miniconda3/lib/python3.7/site-packages (from scikit-learn>=0.24.0->sktime) (1.5.3)\u001b[0m\n",
      "\u001b[34mRequirement already satisfied: threadpoolctl>=2.0.0 in /miniconda3/lib/python3.7/site-packages (from scikit-learn>=0.24.0->sktime) (2.1.0)\u001b[0m\n",
      "\u001b[34mCollecting patsy>=0.5\n",
      "  Downloading patsy-0.5.1-py2.py3-none-any.whl (231 kB)\u001b[0m\n",
      "\n",
      "2021-08-11 17:07:53 Uploading - Uploading generated training model\u001b[34mInstalling collected packages: patsy, llvmlite, statsmodels, scikit-learn, numba, sktime\u001b[0m\n",
      "\u001b[34m  Attempting uninstall: scikit-learn\n",
      "    Found existing installation: scikit-learn 0.23.2\n",
      "    Uninstalling scikit-learn-0.23.2:\n",
      "      Successfully uninstalled scikit-learn-0.23.2\u001b[0m\n",
      "\u001b[34mERROR: pip's dependency resolver does not currently take into account all the packages that are installed. This behaviour is the source of the following dependency conflicts.\u001b[0m\n",
      "\u001b[34msagemaker-sklearn-container 2.0 requires scikit-learn==0.23.2, but you have scikit-learn 0.24.2 which is incompatible.\u001b[0m\n",
      "\u001b[34mSuccessfully installed llvmlite-0.36.0 numba-0.53.1 patsy-0.5.1 scikit-learn-0.24.2 sktime-0.7.0 statsmodels-0.12.2\u001b[0m\n",
      "\u001b[34m*** sktime imported successfully ***\u001b[0m\n",
      "\u001b[34m*** sMAPE Loss : 0.145427686270316 ***\u001b[0m\n",
      "\u001b[34m*** Model has been saved in /opt/ml/model/model.joblib ***\u001b[0m\n",
      "\u001b[34m2021-08-11 17:07:50,442 sagemaker-containers INFO     Reporting training SUCCESS\u001b[0m\n",
      "\n",
      "2021-08-11 17:08:28 Completed - Training job completed\n",
      "Training seconds: 67\n",
      "Billable seconds: 67\n"
     ]
    }
   ],
   "source": [
    "from sagemaker.sklearn import SKLearn\n",
    "\n",
    "sk_model = SKLearn(entry_point='sktime_sagemaker.py',\n",
    "             role=sagemaker.get_execution_role(),\n",
    "             framework_version='0.23-1',\n",
    "             instance_count=1, \n",
    "             instance_type='ml.m5.large',\n",
    "             output_path=output,\n",
    "             base_job_name='sktime-test-model')\n",
    "\n",
    "sk_model.fit({'training':training})"
   ]
  },
  {
   "cell_type": "markdown",
   "id": "57e90e25",
   "metadata": {},
   "source": [
    "## Creat a Real-Time inference Endpoint for our trained model"
   ]
  },
  {
   "cell_type": "code",
   "execution_count": 13,
   "id": "0029b8af",
   "metadata": {},
   "outputs": [
    {
     "name": "stdout",
     "output_type": "stream",
     "text": [
      "----------------!"
     ]
    }
   ],
   "source": [
    "sk_predictor = sk_model.deploy(endpoint_name='sktime-naiveforcaster', initial_instance_count=1, instance_type='ml.m5.large')\n",
    "\n",
    "# set the predictor input/output configurations\n",
    "sk_predictor.serializer = sagemaker.serializers.CSVSerializer()\n",
    "sk_predictor.deserializer = sagemaker.deserializers.NumpyDeserializer()"
   ]
  },
  {
   "cell_type": "markdown",
   "id": "75b82eea",
   "metadata": {},
   "source": [
    "## See our model prediction!"
   ]
  },
  {
   "cell_type": "code",
   "execution_count": 15,
   "id": "0624d19c",
   "metadata": {},
   "outputs": [
    {
     "data": {
      "text/plain": [
       "0.145427686270316"
      ]
     },
     "execution_count": 15,
     "metadata": {},
     "output_type": "execute_result"
    },
    {
     "data": {
      "image/png": "[encoded data removed]",
      "text/plain": [
       "<Figure size 1152x288 with 1 Axes>"
      ]
     },
     "metadata": {
      "needs_background": "light"
     },
     "output_type": "display_data"
    }
   ],
   "source": [
    "from sktime.forecasting.model_selection import temporal_train_test_split\n",
    "from sktime.performance_metrics.forecasting import mean_absolute_percentage_error\n",
    "from sktime.forecasting.naive import NaiveForecaster\n",
    "from sktime.utils.plotting import plot_series\n",
    "\n",
    "\n",
    "y_train, y_test = temporal_train_test_split(dataset, test_size=36)\n",
    "\n",
    "fh = np.arange(1, len(y_test) + 1)\n",
    "\n",
    "y_pred = pd.Series(sk_predictor.predict(fh), index=y_test.index)\n",
    "\n",
    "plot_series(y_train, y_test, y_pred, labels=[\"y_train\", \"y_test\", \"y_pred\"])\n",
    "mean_absolute_percentage_error(y_pred, y_test)"
   ]
  },
  {
   "cell_type": "code",
   "execution_count": 16,
   "id": "d95fec9d",
   "metadata": {},
   "outputs": [],
   "source": [
    "# make sure to delete the endpoint after you finished\n",
    "sk_predictor.delete_endpoint()"
   ]
  }
 ],
 "metadata": {
  "kernelspec": {
   "display_name": "conda_python3",
   "language": "python",
   "name": "conda_python3"
  },
  "language_info": {
   "codemirror_mode": {
    "name": "ipython",
    "version": 3
   },
   "file_extension": ".py",
   "mimetype": "text/x-python",
   "name": "python",
   "nbconvert_exporter": "python",
   "pygments_lexer": "ipython3",
   "version": "3.6.13"
  }
 },
 "nbformat": 4,
 "nbformat_minor": 5
}
