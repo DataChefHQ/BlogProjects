{
 "cells": [
  {
   "cell_type": "code",
   "execution_count": null,
   "id": "3b6fa335-df29-44a0-b340-81c97954b8f0",
   "metadata": {},
   "outputs": [],
   "source": [
    "!pip install -U sagemaker"
   ]
  },
  {
   "cell_type": "markdown",
   "id": "eb82128b-ba4d-43b8-93fd-a920ab7bb1a6",
   "metadata": {},
   "source": [
    "## Prepare the dataset"
   ]
  },
  {
   "cell_type": "markdown",
   "id": "466ae9d1-a1d1-405b-a16d-55ab2c3d9c2b",
   "metadata": {},
   "source": [
    "The input text has to be in the first column and output in the second column."
   ]
  },
  {
   "cell_type": "code",
   "execution_count": 40,
   "id": "0b6dfdc2-5674-42e9-b2a9-9724ed56e989",
   "metadata": {},
   "outputs": [
    {
     "data": {
      "text/html": [
       "<div>\n",
       "<style scoped>\n",
       "    .dataframe tbody tr th:only-of-type {\n",
       "        vertical-align: middle;\n",
       "    }\n",
       "\n",
       "    .dataframe tbody tr th {\n",
       "        vertical-align: top;\n",
       "    }\n",
       "\n",
       "    .dataframe thead th {\n",
       "        text-align: right;\n",
       "    }\n",
       "</style>\n",
       "<table border=\"1\" class=\"dataframe\">\n",
       "  <thead>\n",
       "    <tr style=\"text-align: right;\">\n",
       "      <th></th>\n",
       "      <th>modern</th>\n",
       "      <th>original</th>\n",
       "    </tr>\n",
       "  </thead>\n",
       "  <tbody>\n",
       "    <tr>\n",
       "      <th>0</th>\n",
       "      <td>Here comes my master, your brother.</td>\n",
       "      <td>Yonder comes my master, your brother.</td>\n",
       "    </tr>\n",
       "    <tr>\n",
       "      <th>1</th>\n",
       "      <td>Go hide, Adam, and you’ll hear how he abuses me.</td>\n",
       "      <td>Go apart, Adam, and thou shalt hear how he wil...</td>\n",
       "    </tr>\n",
       "    <tr>\n",
       "      <th>2</th>\n",
       "      <td>here?</td>\n",
       "      <td>Now, sir, what make you here?</td>\n",
       "    </tr>\n",
       "    <tr>\n",
       "      <th>3</th>\n",
       "      <td>Nothing. I’ve never been taught how to make an...</td>\n",
       "      <td>Nothing. I am not taught to make anything.</td>\n",
       "    </tr>\n",
       "    <tr>\n",
       "      <th>4</th>\n",
       "      <td>Well, then, what are you messing up?</td>\n",
       "      <td>What mar you then, sir?</td>\n",
       "    </tr>\n",
       "    <tr>\n",
       "      <th>...</th>\n",
       "      <td>...</td>\n",
       "      <td>...</td>\n",
       "    </tr>\n",
       "    <tr>\n",
       "      <th>11543</th>\n",
       "      <td>The stuff you had at the Centaur, sir.</td>\n",
       "      <td>Your goods that lay at host, sir, in the Centaur.</td>\n",
       "    </tr>\n",
       "    <tr>\n",
       "      <th>11544</th>\n",
       "      <td>You have a fat friend at your master’s house: ...</td>\n",
       "      <td>There is a fat friend at your master’s house T...</td>\n",
       "    </tr>\n",
       "    <tr>\n",
       "      <th>11545</th>\n",
       "      <td>After you, sir. You’re older than me.</td>\n",
       "      <td>Not I, sir. You are my elder.</td>\n",
       "    </tr>\n",
       "    <tr>\n",
       "      <th>11546</th>\n",
       "      <td>That’s a good point. How can we tell which of ...</td>\n",
       "      <td>That’s a question. How shall we try it?</td>\n",
       "    </tr>\n",
       "    <tr>\n",
       "      <th>11547</th>\n",
       "      <td>We’ll draw straws. Meanwhile, after you.</td>\n",
       "      <td>We’ll draw cuts for the signior. Till then, le...</td>\n",
       "    </tr>\n",
       "  </tbody>\n",
       "</table>\n",
       "<p>11548 rows × 2 columns</p>\n",
       "</div>"
      ],
      "text/plain": [
       "                                                  modern  \\\n",
       "0                    Here comes my master, your brother.   \n",
       "1       Go hide, Adam, and you’ll hear how he abuses me.   \n",
       "2                                                  here?   \n",
       "3      Nothing. I’ve never been taught how to make an...   \n",
       "4                   Well, then, what are you messing up?   \n",
       "...                                                  ...   \n",
       "11543             The stuff you had at the Centaur, sir.   \n",
       "11544  You have a fat friend at your master’s house: ...   \n",
       "11545              After you, sir. You’re older than me.   \n",
       "11546  That’s a good point. How can we tell which of ...   \n",
       "11547           We’ll draw straws. Meanwhile, after you.   \n",
       "\n",
       "                                                original  \n",
       "0                  Yonder comes my master, your brother.  \n",
       "1      Go apart, Adam, and thou shalt hear how he wil...  \n",
       "2                          Now, sir, what make you here?  \n",
       "3             Nothing. I am not taught to make anything.  \n",
       "4                                What mar you then, sir?  \n",
       "...                                                  ...  \n",
       "11543  Your goods that lay at host, sir, in the Centaur.  \n",
       "11544  There is a fat friend at your master’s house T...  \n",
       "11545                      Not I, sir. You are my elder.  \n",
       "11546            That’s a question. How shall we try it?  \n",
       "11547  We’ll draw cuts for the signior. Till then, le...  \n",
       "\n",
       "[11548 rows x 2 columns]"
      ]
     },
     "execution_count": 40,
     "metadata": {},
     "output_type": "execute_result"
    }
   ],
   "source": [
    "import pandas as pd\n",
    "\n",
    "data = pd.read_csv(\"Shakespear/all_shakespeare.csv\", usecols=['modern', 'original'])[['modern', 'original']]\n",
    "data"
   ]
  },
  {
   "cell_type": "code",
   "execution_count": 41,
   "id": "7089a045-9aa5-4c7a-9b53-8b0acfd96261",
   "metadata": {},
   "outputs": [],
   "source": [
    "data_1.to_csv(\"Shakespeare_Dataset_Full.csv\", index=False)"
   ]
  },
  {
   "cell_type": "markdown",
   "id": "475ad7a8-6143-4d3e-baa8-9e4dad30b5b1",
   "metadata": {},
   "source": [
    "## Create Training Job"
   ]
  },
  {
   "cell_type": "code",
   "execution_count": 42,
   "id": "ddd9d90d-d570-44b8-bdb4-66c99939355a",
   "metadata": {},
   "outputs": [],
   "source": [
    "import boto3\n",
    "s3_client = boto3.client('s3')\n",
    "s3_client.upload_file(\"Shakespeare_Dataset_Full.csv\", \"blog-posts-artifacts\", \"paraphrasing/training-data/Shakespeare_Dataset_Full.csv\")"
   ]
  },
  {
   "cell_type": "code",
   "execution_count": 46,
   "id": "aeedf1cd-38d3-454d-9f09-8d8006884949",
   "metadata": {},
   "outputs": [],
   "source": [
    "import sagemaker\n",
    "from sagemaker.huggingface import HuggingFace\n",
    "\n",
    "# IAM role for executing training job\n",
    "role = 'YodaMaker'\n",
    "hyperparameters = {\n",
    "    'model_name_or_path': 't5-base',\n",
    "    'output_dir': '/opt/ml/model',\n",
    "    'train_file': '/opt/ml/input/data/train/Shakespeare_Dataset_Full.csv',\n",
    "    'source_prefix': 'paraphrase: ',\n",
    "    'learning_rate': 0.0001,\n",
    "    'do_train': True,\n",
    "    'num_train_epochs': 1,\n",
    "    'per_device_train_batch_size': 4,\n",
    "    'save_strategy': 'no',\n",
    "}"
   ]
  },
  {
   "cell_type": "code",
   "execution_count": 47,
   "id": "eb99d596-291f-4840-9674-dbb8d5d4526f",
   "metadata": {},
   "outputs": [],
   "source": [
    "# Git configuration to download our fine-tuning script\n",
    "git_config = {'repo': 'https://github.com/huggingface/transformers.git','branch': 'v4.17.0'}\n",
    "\n",
    "# Creates Hugging Face estimator\n",
    "huggingface_estimator = HuggingFace(\n",
    "    entry_point='run_summarization.py',\n",
    "    source_dir='./examples/pytorch/summarization',\n",
    "    output_path='s3://blog-posts-artifacts/paraphrasing/model-artifacts/',\n",
    "    code_location='s3://blog-posts-artifacts/paraphrasing/training-checkpoints/',\n",
    "    instance_type='ml.g4dn.xlarge',\n",
    "    instance_count=1,\n",
    "    role=role,\n",
    "    git_config=git_config,\n",
    "    transformers_version='4.17.0',\n",
    "    pytorch_version='1.10.2',\n",
    "    py_version='py38',\n",
    "    hyperparameters = hyperparameters,\n",
    "    tags=[{'Key':'owner','Value':'ali@datachef.co'}]\n",
    ")"
   ]
  },
  {
   "cell_type": "code",
   "execution_count": 48,
   "id": "17eda5a1-57cf-4bf6-8c54-b1d922c059be",
   "metadata": {},
   "outputs": [],
   "source": [
    "# Starting the training job\n",
    "huggingface_estimator.fit({'train': 's3://blog-posts-artifacts/paraphrasing/training-data/Shakespeare_Dataset_Full.csv'}, wait=False)"
   ]
  },
  {
   "cell_type": "markdown",
   "id": "da378351-e082-452e-bcf1-93cb088b4894",
   "metadata": {},
   "source": [
    "## Deploy the trained model"
   ]
  },
  {
   "cell_type": "code",
   "execution_count": 49,
   "id": "c8ddf69f-d4f8-49db-90c5-128b42c8d664",
   "metadata": {},
   "outputs": [
    {
     "name": "stdout",
     "output_type": "stream",
     "text": [
      "-----!"
     ]
    }
   ],
   "source": [
    "from sagemaker.huggingface import HuggingFaceModel\n",
    "import sagemaker\n",
    "\n",
    "# IAM role with permissions to create endpoint\n",
    "role = \"YodaMaker\"\n",
    "\n",
    "# S3 URI of the trained model\n",
    "model_uri = \"s3://blog-posts-artifacts/paraphrasing/model-artifacts/huggingface-pytorch-training-2022-05-11-09-33-42-249/output/model.tar.gz\"\n",
    "\n",
    "# Create Hugging Face Model Class\n",
    "huggingface_model = HuggingFaceModel(\n",
    "    model_data=model_uri,\n",
    "\ttransformers_version='4.17.0',\n",
    "\tpytorch_version='1.10.2',\n",
    "\tpy_version='py38',\n",
    "    role=role, \n",
    ")\n",
    "\n",
    "# Deploy model to SageMaker Inference\n",
    "predictor = huggingface_model.deploy(\n",
    "    initial_instance_count=1, # number of instances\n",
    "    instance_type='ml.m5.2xlarge', # instance type\n",
    "    tags=[{'Key':'owner','Value':'ali@datachef.co'}]\n",
    ")"
   ]
  },
  {
   "cell_type": "code",
   "execution_count": 58,
   "id": "1296247e-e90c-4625-b470-0e5ce4ddb146",
   "metadata": {},
   "outputs": [
    {
     "data": {
      "text/plain": [
       "[{'generated_text': 'The top of your wisdom is thou ability of enactment.'},\n",
       " {'generated_text': 'You are then the end in measure of your knowledge, your capacity to have it communicated to'},\n",
       " {'generated_text': 'The ultimate point of your knowledge is your capacity to convey it to his.'},\n",
       " {'generated_text': \"Final proof of your knowledge is your capacity to do it t' other.\"},\n",
       " {'generated_text': \"Your knowledge is the test, the end, that 'falsely test of \"},\n",
       " {'generated_text': 'The test of your knowledge is thy ability to be carried to another.'},\n",
       " {'generated_text': 'A truly honest test of your knowledge is your capacity to convey it to those who do not have'},\n",
       " {'generated_text': 'The chief test of your knowledge is your rigueur to tell it to another.'},\n",
       " {'generated_text': 'You must prove in your knowledge, to communicate it.'},\n",
       " {'generated_text': 'The absolute test of thy knowledge is to convey to another.'}]"
      ]
     },
     "execution_count": 58,
     "metadata": {},
     "output_type": "execute_result"
    }
   ],
   "source": [
    "#shakespeare\n",
    "predictor.predict({\"inputs\": \"paraphrase: The ultimate test of your knowledge is your capacity to convey it to another.\",\n",
    "                   \"parameters\" : {\"do_sample\":True, \"num_return_sequences\":10}})"
   ]
  },
  {
   "cell_type": "code",
   "execution_count": 64,
   "id": "7762ae49-6e76-40a6-a67c-51c8a527e49b",
   "metadata": {},
   "outputs": [],
   "source": [
    "# Delete the endpoint\n",
    "predictor.delete_endpoint()"
   ]
  }
 ],
 "metadata": {
  "kernelspec": {
   "display_name": "Python 3",
   "language": "python",
   "name": "python3"
  },
  "language_info": {
   "codemirror_mode": {
    "name": "ipython",
    "version": 3
   },
   "file_extension": ".py",
   "mimetype": "text/x-python",
   "name": "python",
   "nbconvert_exporter": "python",
   "pygments_lexer": "ipython3",
   "version": "3.7.3"
  }
 },
 "nbformat": 4,
 "nbformat_minor": 5
}
